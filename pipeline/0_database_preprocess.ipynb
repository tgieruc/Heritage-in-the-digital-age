{
 "cells": [
  {
   "cell_type": "code",
   "execution_count": 9,
   "metadata": {
    "collapsed": true
   },
   "outputs": [],
   "source": [
    "import glob\n",
    "import sqlite3\n",
    "from os import listdir\n",
    "from os.path import isfile, join\n",
    "\n",
    "import numpy as np\n",
    "import pandas as pd"
   ]
  },
  {
   "cell_type": "code",
   "execution_count": 6,
   "outputs": [],
   "source": [
    "BCU_database_folder = '../data/BCU_database/'"
   ],
   "metadata": {
    "collapsed": false
   }
  },
  {
   "cell_type": "markdown",
   "source": [
    "Extract the Photo table from the database"
   ],
   "metadata": {
    "collapsed": false
   }
  },
  {
   "cell_type": "code",
   "execution_count": 7,
   "outputs": [
    {
     "name": "stdout",
     "output_type": "stream",
     "text": [
      "Index(['id', 'bcu_id', 'title', 'title_en', 'caption', 'year_from', 'year_to',\n",
      "       'photographer_name', 'fund_name', 'locality', 'theme', 'filename',\n",
      "       'title_en_preprocessed', 'caption_preprocessed'],\n",
      "      dtype='object')\n",
      "original number of picture : 2216\n"
     ]
    }
   ],
   "source": [
    "# Read sqlite query results into a pandas DataFrame\n",
    "con = sqlite3.connect(BCU_database_folder + 'bcu_caption.db')\n",
    "Photo = pd.read_sql_query(\"SELECT * from Photo\", con)\n",
    "\n",
    "# Verify that result of SQL query is stored in the dataframe\n",
    "print(Photo.keys())\n",
    "print('original number of picture :',len(Photo))"
   ],
   "metadata": {
    "collapsed": false
   }
  },
  {
   "cell_type": "markdown",
   "source": [
    "Get all the images"
   ],
   "metadata": {
    "collapsed": false
   }
  },
  {
   "cell_type": "code",
   "execution_count": 10,
   "outputs": [],
   "source": [
    "mypath = BCU_database_folder + '03_resized'\n",
    "onlyfiles = [f for f in listdir() if isfile(join(mypath, f))]"
   ],
   "metadata": {
    "collapsed": false
   }
  },
  {
   "cell_type": "code",
   "execution_count": 12,
   "outputs": [],
   "source": [
    "files = glob.glob(mypath + '/*')"
   ],
   "metadata": {
    "collapsed": false
   }
  },
  {
   "cell_type": "code",
   "execution_count": 13,
   "outputs": [],
   "source": [
    "files_324w = list(filter(lambda k: '324w' in k, files))"
   ],
   "metadata": {
    "collapsed": false
   }
  },
  {
   "cell_type": "code",
   "execution_count": 14,
   "outputs": [
    {
     "name": "stdout",
     "output_type": "stream",
     "text": [
      "Number of pictures with filenames: 1908\n"
     ]
    }
   ],
   "source": [
    "missing = []\n",
    "Photo['filename'] = Photo.loc[~Photo.bcu_id.str.contains('BCUF')].bcu_id.apply(lambda x:  (list(filter(lambda k: x.lower() in k.lower(), files_324w)))[0].removeprefix(mypath + '/') if len(list(filter(lambda k: x.lower() in k.lower(), files_324w))) > 0 else missing.append(x))\n",
    "print(f'Number of pictures with filenames: {Photo.filename.notnull().sum()}')"
   ],
   "metadata": {
    "collapsed": false
   }
  },
  {
   "cell_type": "markdown",
   "source": [
    "Processing titles and captions"
   ],
   "metadata": {
    "collapsed": false
   }
  },
  {
   "cell_type": "code",
   "execution_count": 15,
   "outputs": [
    {
     "name": "stdout",
     "output_type": "stream",
     "text": [
      "Number of images with processed captions and filenames: 1506\n",
      "Number of images with processed titles and filenames: 1881\n"
     ]
    }
   ],
   "source": [
    "Photo['title_en_preprocessed'] = Photo[\"title_en\"].apply(lambda x: np.nan if str(x).find('Souvenir of') != -1 else str(x).lower().replace('portrait of ', '').replace('canton of fribourg','').replace('(fribourg)','').replace('[fribourg]','').replace('of fribourg','').replace('fribourg',''))\n",
    "Photo['caption_preprocessed'] = Photo[\"caption\"].apply(lambda x: np.nan if (str(x).find('a city in') != -1 or str(x).find('view') != -1) else str(x).replace('portrait of ', '').replace('photograph of ', '').replace('black and white photo of ', ''))\n",
    "print(f'Number of images with processed captions and filenames: {(Photo.caption_preprocessed.notnull() & Photo.filename.notnull()).sum()}')\n",
    "print(f'Number of images with processed titles and filenames: {(Photo.title_en_preprocessed.notnull() & Photo.filename.notnull()).sum()}')"
   ],
   "metadata": {
    "collapsed": false
   }
  },
  {
   "cell_type": "code",
   "execution_count": 42,
   "outputs": [
    {
     "data": {
      "text/plain": "2216"
     },
     "execution_count": 42,
     "metadata": {},
     "output_type": "execute_result"
    }
   ],
   "source": [
    "Photo.to_sql(\"Photo\",con,if_exists='replace',index=False, index_label=\"id\")"
   ],
   "metadata": {
    "collapsed": false
   }
  }
 ],
 "metadata": {
  "kernelspec": {
   "display_name": "Python 3",
   "language": "python",
   "name": "python3"
  },
  "language_info": {
   "codemirror_mode": {
    "name": "ipython",
    "version": 2
   },
   "file_extension": ".py",
   "mimetype": "text/x-python",
   "name": "python",
   "nbconvert_exporter": "python",
   "pygments_lexer": "ipython2",
   "version": "2.7.6"
  }
 },
 "nbformat": 4,
 "nbformat_minor": 0
}

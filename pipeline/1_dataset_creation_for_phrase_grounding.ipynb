{
 "cells": [
  {
   "cell_type": "code",
   "execution_count": 14,
   "metadata": {
    "collapsed": true
   },
   "outputs": [],
   "source": [
    "import os\n",
    "import pickle\n",
    "import sqlite3\n",
    "import shutil\n",
    "\n",
    "import cv2\n",
    "import pandas as pd\n",
    "from matplotlib import pyplot as plt\n",
    "%matplotlib inline"
   ]
  },
  {
   "cell_type": "markdown",
   "source": [
    "Extract the Photo table from the database"
   ],
   "metadata": {
    "collapsed": false
   }
  },
  {
   "cell_type": "code",
   "execution_count": 9,
   "outputs": [],
   "source": [
    "BCU_database_folder = '../data/BCU_database/'\n",
    "dataset_for_phrase_grounding_folder = '../data/dataset_for_phrase_grounding/'"
   ],
   "metadata": {
    "collapsed": false
   }
  },
  {
   "cell_type": "code",
   "execution_count": 10,
   "outputs": [
    {
     "name": "stdout",
     "output_type": "stream",
     "text": [
      "Index(['id', 'bcu_id', 'title', 'title_en', 'caption', 'year_from', 'year_to',\n",
      "       'photographer_name', 'fund_name', 'locality', 'theme', 'filename',\n",
      "       'title_en_preprocessed', 'caption_preprocessed'],\n",
      "      dtype='object')\n",
      "original number of picture : 2216\n"
     ]
    }
   ],
   "source": [
    "# Read sqlite query results into a pandas DataFrame\n",
    "con = sqlite3.connect(BCU_database_folder + 'bcu_caption.db')\n",
    "Photo = pd.read_sql_query(\"SELECT * from Photo\", con)\n",
    "\n",
    "# Verify that result of SQL query is stored in the dataframe\n",
    "print(Photo.keys())\n",
    "print('original number of picture :',len(Photo))"
   ],
   "metadata": {
    "collapsed": false
   }
  },
  {
   "cell_type": "code",
   "execution_count": 11,
   "outputs": [
    {
     "data": {
      "text/plain": "1500"
     },
     "execution_count": 11,
     "metadata": {},
     "output_type": "execute_result"
    }
   ],
   "source": [
    "Photo = Photo.loc[Photo.filename.notnull() & (Photo.caption_preprocessed.notna() & Photo.title_en_preprocessed.notna())]\n",
    "len(Photo)"
   ],
   "metadata": {
    "collapsed": false
   }
  },
  {
   "cell_type": "code",
   "execution_count": 8,
   "outputs": [
    {
     "data": {
      "text/plain": "        id      bcu_id                                              title  \\\n6        7  ALNU_00052               Deux femmes, une en costume régional   \n10      11  ALNU_00109  Train en arrêt à la gare de Flamatt lors de tr...   \n208    209  BERA_01689                   Fribourg depuis les Grand-Places   \n213    214  BERA_02514                    Pont du Diable, Loèche (Valais)   \n230    231  BERA_03743  Enfants (filles) en récréation, couvent des Ur...   \n...    ...         ...                                                ...   \n2084  2085  PRMA_00216  Salle de cours de scultpure au Technicum canto...   \n2093  2094  PRMA_00305                 Groupe de blanchisseuses, Fribourg   \n2125  2126  PRMA_00515                    Maternité-pédiatrie, [Fribourg]   \n2149  2150  PRMA_00688  Construction du marché couvert, Quartier de Pé...   \n2153  2154  PRMA_00709  Marché au bétail à la Planche-Supérieure, Frib...   \n\n                                               title_en  \\\n6                    Two women, one in regional costume   \n10    Train stop at Flamatt station during sanitatio...   \n208                      Fribourg from the Grand-Places   \n213                     Pont du Diable, Loèche (Valais)   \n230   Children (girls) in recreation, Ursulines conv...   \n...                                                 ...   \n2084  Scultpure classroom at the Cantonal Technicum,...   \n2093                      Group of launderers, Fribourg   \n2125                Kindergarten-pediatrics, [Fribourg]   \n2149  Construction of the covered market, Periolles ...   \n2153  Livestock market at the Planche-Supérieure, Fr...   \n\n                                                caption year_from year_to  \\\n6                  women standing in front of a church.      1885    1900   \n10          steam locomotive pulling a passenger train.      1900    1900   \n208                      tourist attraction in the fog.      1946    1946   \n213            tourist attraction in the past, history.      1945    1955   \n230   a group of children playing in the courtyard o...      1945    1960   \n...                                                 ...       ...     ...   \n2084             painting artist at work in the studio.      1903    1903   \n2093   a group of women and children in a laundry room.      1900    1900   \n2125                      nurses working in a hospital.      1920    1920   \n2149                   tourist attraction in the 1930s.      1930    1930   \n2153                 crowds gather to watch the parade.      1918    1918   \n\n      photographer_name          fund_name  locality  \\\n6     Nussbaumer, Aloïs  Nussbaumer, Aloïs      None   \n10    Nussbaumer, Aloïs  Nussbaumer, Aloïs   Flamatt   \n208      Rast, Benedikt     Rast, Benedikt  Fribourg   \n213      Rast, Benedikt     Rast, Benedikt      None   \n230      Rast, Benedikt     Rast, Benedikt  Fribourg   \n...                 ...                ...       ...   \n2084  Macherel, Prosper  Macherel, Prosper  Fribourg   \n2093  Macherel, Prosper  Macherel, Prosper  Fribourg   \n2125  Macherel, Prosper  Macherel, Prosper  Fribourg   \n2149  Macherel, Prosper  Macherel, Prosper  Fribourg   \n2153  Macherel, Prosper  Macherel, Prosper  Fribourg   \n\n                                                  theme  \\\n6        Question de genre - représentations du féminin   \n10                Question de la modernité - transports   \n208                                                None   \n213                                                None   \n230                                                None   \n...                                                 ...   \n2084                                               None   \n2093     Question de genre - représentations du féminin   \n2125                                               None   \n2149                                Question économique   \n2153  Question de la modernité - traditions agricole...   \n\n                    filename  \\\n6     ALNU_00052_2k_324w.jpg   \n10    ALNU_00109_2k_324w.jpg   \n208   BERA_01689_2k_324w.jpg   \n213   BERA_02514_2k_324w.jpg   \n230   BERA_03743_2k_324w.jpg   \n...                      ...   \n2084  PRMA_00216_2k_324w.jpg   \n2093  PRMA_00305_2k_324w.jpg   \n2125  PRMA_00515_2k_324w.jpg   \n2149  PRMA_00688_2k_324w.jpg   \n2153  PRMA_00709_2k_324w.jpg   \n\n                                  title_en_preprocessed  \\\n6                    two women, one in regional costume   \n10    train stop at flamatt station during sanitatio...   \n208                               from the grand-places   \n213                     pont du diable, loèche (valais)   \n230   children (girls) in recreation, ursulines conv...   \n...                                                 ...   \n2084    scultpure classroom at the cantonal technicum,    \n2093                              group of launderers,    \n2125                          kindergarten-pediatrics,    \n2149  construction of the covered market, periolles ...   \n2153       livestock market at the planche-supérieure,    \n\n                                   caption_preprocessed  \n6                  women standing in front of a church.  \n10          steam locomotive pulling a passenger train.  \n208                      tourist attraction in the fog.  \n213            tourist attraction in the past, history.  \n230   a group of children playing in the courtyard o...  \n...                                                 ...  \n2084             painting artist at work in the studio.  \n2093   a group of women and children in a laundry room.  \n2125                      nurses working in a hospital.  \n2149                   tourist attraction in the 1930s.  \n2153                 crowds gather to watch the parade.  \n\n[100 rows x 14 columns]",
      "text/html": "<div>\n<style scoped>\n    .dataframe tbody tr th:only-of-type {\n        vertical-align: middle;\n    }\n\n    .dataframe tbody tr th {\n        vertical-align: top;\n    }\n\n    .dataframe thead th {\n        text-align: right;\n    }\n</style>\n<table border=\"1\" class=\"dataframe\">\n  <thead>\n    <tr style=\"text-align: right;\">\n      <th></th>\n      <th>id</th>\n      <th>bcu_id</th>\n      <th>title</th>\n      <th>title_en</th>\n      <th>caption</th>\n      <th>year_from</th>\n      <th>year_to</th>\n      <th>photographer_name</th>\n      <th>fund_name</th>\n      <th>locality</th>\n      <th>theme</th>\n      <th>filename</th>\n      <th>title_en_preprocessed</th>\n      <th>caption_preprocessed</th>\n    </tr>\n  </thead>\n  <tbody>\n    <tr>\n      <th>6</th>\n      <td>7</td>\n      <td>ALNU_00052</td>\n      <td>Deux femmes, une en costume régional</td>\n      <td>Two women, one in regional costume</td>\n      <td>women standing in front of a church.</td>\n      <td>1885</td>\n      <td>1900</td>\n      <td>Nussbaumer, Aloïs</td>\n      <td>Nussbaumer, Aloïs</td>\n      <td>None</td>\n      <td>Question de genre - représentations du féminin</td>\n      <td>ALNU_00052_2k_324w.jpg</td>\n      <td>two women, one in regional costume</td>\n      <td>women standing in front of a church.</td>\n    </tr>\n    <tr>\n      <th>10</th>\n      <td>11</td>\n      <td>ALNU_00109</td>\n      <td>Train en arrêt à la gare de Flamatt lors de tr...</td>\n      <td>Train stop at Flamatt station during sanitatio...</td>\n      <td>steam locomotive pulling a passenger train.</td>\n      <td>1900</td>\n      <td>1900</td>\n      <td>Nussbaumer, Aloïs</td>\n      <td>Nussbaumer, Aloïs</td>\n      <td>Flamatt</td>\n      <td>Question de la modernité - transports</td>\n      <td>ALNU_00109_2k_324w.jpg</td>\n      <td>train stop at flamatt station during sanitatio...</td>\n      <td>steam locomotive pulling a passenger train.</td>\n    </tr>\n    <tr>\n      <th>208</th>\n      <td>209</td>\n      <td>BERA_01689</td>\n      <td>Fribourg depuis les Grand-Places</td>\n      <td>Fribourg from the Grand-Places</td>\n      <td>tourist attraction in the fog.</td>\n      <td>1946</td>\n      <td>1946</td>\n      <td>Rast, Benedikt</td>\n      <td>Rast, Benedikt</td>\n      <td>Fribourg</td>\n      <td>None</td>\n      <td>BERA_01689_2k_324w.jpg</td>\n      <td>from the grand-places</td>\n      <td>tourist attraction in the fog.</td>\n    </tr>\n    <tr>\n      <th>213</th>\n      <td>214</td>\n      <td>BERA_02514</td>\n      <td>Pont du Diable, Loèche (Valais)</td>\n      <td>Pont du Diable, Loèche (Valais)</td>\n      <td>tourist attraction in the past, history.</td>\n      <td>1945</td>\n      <td>1955</td>\n      <td>Rast, Benedikt</td>\n      <td>Rast, Benedikt</td>\n      <td>None</td>\n      <td>None</td>\n      <td>BERA_02514_2k_324w.jpg</td>\n      <td>pont du diable, loèche (valais)</td>\n      <td>tourist attraction in the past, history.</td>\n    </tr>\n    <tr>\n      <th>230</th>\n      <td>231</td>\n      <td>BERA_03743</td>\n      <td>Enfants (filles) en récréation, couvent des Ur...</td>\n      <td>Children (girls) in recreation, Ursulines conv...</td>\n      <td>a group of children playing in the courtyard o...</td>\n      <td>1945</td>\n      <td>1960</td>\n      <td>Rast, Benedikt</td>\n      <td>Rast, Benedikt</td>\n      <td>Fribourg</td>\n      <td>None</td>\n      <td>BERA_03743_2k_324w.jpg</td>\n      <td>children (girls) in recreation, ursulines conv...</td>\n      <td>a group of children playing in the courtyard o...</td>\n    </tr>\n    <tr>\n      <th>...</th>\n      <td>...</td>\n      <td>...</td>\n      <td>...</td>\n      <td>...</td>\n      <td>...</td>\n      <td>...</td>\n      <td>...</td>\n      <td>...</td>\n      <td>...</td>\n      <td>...</td>\n      <td>...</td>\n      <td>...</td>\n      <td>...</td>\n      <td>...</td>\n    </tr>\n    <tr>\n      <th>2084</th>\n      <td>2085</td>\n      <td>PRMA_00216</td>\n      <td>Salle de cours de scultpure au Technicum canto...</td>\n      <td>Scultpure classroom at the Cantonal Technicum,...</td>\n      <td>painting artist at work in the studio.</td>\n      <td>1903</td>\n      <td>1903</td>\n      <td>Macherel, Prosper</td>\n      <td>Macherel, Prosper</td>\n      <td>Fribourg</td>\n      <td>None</td>\n      <td>PRMA_00216_2k_324w.jpg</td>\n      <td>scultpure classroom at the cantonal technicum,</td>\n      <td>painting artist at work in the studio.</td>\n    </tr>\n    <tr>\n      <th>2093</th>\n      <td>2094</td>\n      <td>PRMA_00305</td>\n      <td>Groupe de blanchisseuses, Fribourg</td>\n      <td>Group of launderers, Fribourg</td>\n      <td>a group of women and children in a laundry room.</td>\n      <td>1900</td>\n      <td>1900</td>\n      <td>Macherel, Prosper</td>\n      <td>Macherel, Prosper</td>\n      <td>Fribourg</td>\n      <td>Question de genre - représentations du féminin</td>\n      <td>PRMA_00305_2k_324w.jpg</td>\n      <td>group of launderers,</td>\n      <td>a group of women and children in a laundry room.</td>\n    </tr>\n    <tr>\n      <th>2125</th>\n      <td>2126</td>\n      <td>PRMA_00515</td>\n      <td>Maternité-pédiatrie, [Fribourg]</td>\n      <td>Kindergarten-pediatrics, [Fribourg]</td>\n      <td>nurses working in a hospital.</td>\n      <td>1920</td>\n      <td>1920</td>\n      <td>Macherel, Prosper</td>\n      <td>Macherel, Prosper</td>\n      <td>Fribourg</td>\n      <td>None</td>\n      <td>PRMA_00515_2k_324w.jpg</td>\n      <td>kindergarten-pediatrics,</td>\n      <td>nurses working in a hospital.</td>\n    </tr>\n    <tr>\n      <th>2149</th>\n      <td>2150</td>\n      <td>PRMA_00688</td>\n      <td>Construction du marché couvert, Quartier de Pé...</td>\n      <td>Construction of the covered market, Periolles ...</td>\n      <td>tourist attraction in the 1930s.</td>\n      <td>1930</td>\n      <td>1930</td>\n      <td>Macherel, Prosper</td>\n      <td>Macherel, Prosper</td>\n      <td>Fribourg</td>\n      <td>Question économique</td>\n      <td>PRMA_00688_2k_324w.jpg</td>\n      <td>construction of the covered market, periolles ...</td>\n      <td>tourist attraction in the 1930s.</td>\n    </tr>\n    <tr>\n      <th>2153</th>\n      <td>2154</td>\n      <td>PRMA_00709</td>\n      <td>Marché au bétail à la Planche-Supérieure, Frib...</td>\n      <td>Livestock market at the Planche-Supérieure, Fr...</td>\n      <td>crowds gather to watch the parade.</td>\n      <td>1918</td>\n      <td>1918</td>\n      <td>Macherel, Prosper</td>\n      <td>Macherel, Prosper</td>\n      <td>Fribourg</td>\n      <td>Question de la modernité - traditions agricole...</td>\n      <td>PRMA_00709_2k_324w.jpg</td>\n      <td>livestock market at the planche-supérieure,</td>\n      <td>crowds gather to watch the parade.</td>\n    </tr>\n  </tbody>\n</table>\n<p>100 rows × 14 columns</p>\n</div>"
     },
     "execution_count": 8,
     "metadata": {},
     "output_type": "execute_result"
    }
   ],
   "source": [
    "Photo.sample(100).sort_values(by='bcu_id', ascending=True)"
   ],
   "metadata": {
    "collapsed": false
   }
  },
  {
   "cell_type": "code",
   "execution_count": 12,
   "outputs": [],
   "source": [
    "dataset = []\n",
    "for id, row in Photo.iterrows():\n",
    "    elem = dict()\n",
    "    elem['image_id'] = row['id']\n",
    "    elem['caption'] = dict()\n",
    "    try :\n",
    "        elem['caption']['raw'] = row['caption']\n",
    "    except:\n",
    "        elem['caption']['raw'] = ''\n",
    "    try :\n",
    "        elem['caption']['preprocessed'] = row['caption_preprocessed'].lower()\n",
    "    except:\n",
    "        elem['caption']['preprocessed'] = ''\n",
    "    elem['title'] = dict()\n",
    "    try :\n",
    "        elem['title']['raw'] = row['title_en']\n",
    "    except:\n",
    "        elem['title']['raw'] = ''\n",
    "    try :\n",
    "        elem['title']['preprocessed'] = row['title_en_preprocessed'].lower()\n",
    "    except:\n",
    "        elem['title']['preprocessed'] = ''\n",
    "\n",
    "    elem['filename'] = row['filename']\n",
    "    dataset.append(elem)\n",
    "\n",
    "    # img = cv2.imread('./data/03_resized/' + row['filename'])\n",
    "    # plt.imshow(cv2.bitwise_not(img))\n",
    "    # plt.show()"
   ],
   "metadata": {
    "collapsed": false
   }
  },
  {
   "cell_type": "code",
   "execution_count": 18,
   "outputs": [
    {
     "data": {
      "text/plain": "'/home/tgieruc/Heritage-in-the-digital-age/data/dataset_for_phrase_grounding.zip'"
     },
     "execution_count": 18,
     "metadata": {},
     "output_type": "execute_result"
    }
   ],
   "source": [
    "pickle.dump(dataset,open(dataset_for_phrase_grounding_folder + 'dataset.p','wb'))\n",
    "\n",
    "for elem in dataset:\n",
    "    shutil.copyfile(BCU_database_folder + '03_resized/' + elem['filename'], dataset_for_phrase_grounding_folder + 'img/' +  elem['filename'])\n",
    "shutil.make_archive('../data/dataset_for_phrase_grounding', 'zip', dataset_for_phrase_grounding_folder)"
   ],
   "metadata": {
    "collapsed": false
   }
  }
 ],
 "metadata": {
  "kernelspec": {
   "display_name": "Python 3",
   "language": "python",
   "name": "python3"
  },
  "language_info": {
   "codemirror_mode": {
    "name": "ipython",
    "version": 2
   },
   "file_extension": ".py",
   "mimetype": "text/x-python",
   "name": "python",
   "nbconvert_exporter": "python",
   "pygments_lexer": "ipython2",
   "version": "2.7.6"
  }
 },
 "nbformat": 4,
 "nbformat_minor": 0
}

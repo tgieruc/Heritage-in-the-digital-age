{
 "cells": [
  {
   "cell_type": "code",
   "execution_count": 1,
   "metadata": {
    "collapsed": false
   },
   "outputs": [],
   "source": [
    "import pickle\n",
    "import sqlite3\n",
    "import pandas as pd\n",
    "from transformers import AutoTokenizer, AutoModelForSeq2SeqLM"
   ]
  },
  {
   "cell_type": "code",
   "execution_count": 2,
   "metadata": {
    "collapsed": true
   },
   "outputs": [],
   "source": [
    "tokenizer = AutoTokenizer.from_pretrained(\"Helsinki-NLP/opus-mt-fr-en\")\n",
    "\n",
    "model = AutoModelForSeq2SeqLM.from_pretrained(\"Helsinki-NLP/opus-mt-fr-en\")\n",
    "\n",
    "model = model.cuda()"
   ]
  },
  {
   "cell_type": "code",
   "execution_count": 5,
   "metadata": {
    "collapsed": false
   },
   "outputs": [
    {
     "data": {
      "text/html": [
       "<div>\n",
       "<style scoped>\n",
       "    .dataframe tbody tr th:only-of-type {\n",
       "        vertical-align: middle;\n",
       "    }\n",
       "\n",
       "    .dataframe tbody tr th {\n",
       "        vertical-align: top;\n",
       "    }\n",
       "\n",
       "    .dataframe thead th {\n",
       "        text-align: right;\n",
       "    }\n",
       "</style>\n",
       "<table border=\"1\" class=\"dataframe\">\n",
       "  <thead>\n",
       "    <tr style=\"text-align: right;\">\n",
       "      <th></th>\n",
       "      <th>id</th>\n",
       "      <th>bcu_id</th>\n",
       "      <th>title</th>\n",
       "      <th>title_en</th>\n",
       "      <th>caption</th>\n",
       "      <th>year_from</th>\n",
       "      <th>year_to</th>\n",
       "      <th>photographer_name</th>\n",
       "      <th>fund_name</th>\n",
       "      <th>locality</th>\n",
       "      <th>theme</th>\n",
       "      <th>filename</th>\n",
       "      <th>title_en_preprocessed</th>\n",
       "      <th>caption_preprocessed</th>\n",
       "    </tr>\n",
       "  </thead>\n",
       "  <tbody>\n",
       "    <tr>\n",
       "      <th>0</th>\n",
       "      <td>1</td>\n",
       "      <td>ALBL00222</td>\n",
       "      <td>Singine, Sense, Düdingen, moulin</td>\n",
       "      <td>Singine, Sense, Düdingen, mill</td>\n",
       "      <td>aerial view of the town.</td>\n",
       "      <td>1952</td>\n",
       "      <td>1952</td>\n",
       "      <td>None</td>\n",
       "      <td>Aéroport Lausanne Blécherette</td>\n",
       "      <td>Düdingen</td>\n",
       "      <td>Question de la modernité - urbanisme tardif</td>\n",
       "      <td>ALBL00222_2k_324w.jpg</td>\n",
       "      <td>singine, sense, düdingen, mill</td>\n",
       "      <td>None</td>\n",
       "    </tr>\n",
       "    <tr>\n",
       "      <th>1</th>\n",
       "      <td>2</td>\n",
       "      <td>ALCU_00005</td>\n",
       "      <td>Inauguration de la plaque commémorative au mur...</td>\n",
       "      <td>Inauguration of the commemorative plaque on th...</td>\n",
       "      <td>crowds gather to watch the parade.</td>\n",
       "      <td>1900</td>\n",
       "      <td>1900</td>\n",
       "      <td>Cuony, Xavier</td>\n",
       "      <td>Cuony, Xavier et Albert</td>\n",
       "      <td>Fribourg</td>\n",
       "      <td>Question religieuse - formation</td>\n",
       "      <td>ALCU_00005_2k_324w.jpg</td>\n",
       "      <td>inauguration of the commemorative plaque on th...</td>\n",
       "      <td>crowds gather to watch the parade.</td>\n",
       "    </tr>\n",
       "    <tr>\n",
       "      <th>2</th>\n",
       "      <td>3</td>\n",
       "      <td>ALCU_00009</td>\n",
       "      <td>Marché à la Place Notre-Dame, autour de la fon...</td>\n",
       "      <td>Marché à la Place Notre-Dame, autour de la fou...</td>\n",
       "      <td>a city in the past, history.</td>\n",
       "      <td>1900</td>\n",
       "      <td>1900</td>\n",
       "      <td>Cuony, Xavier</td>\n",
       "      <td>Cuony, Xavier et Albert</td>\n",
       "      <td>Fribourg</td>\n",
       "      <td>Question de la modernité - alimentation</td>\n",
       "      <td>ALCU_00009_2k_324w.jpg</td>\n",
       "      <td>marché à la place notre-dame, autour de la fou...</td>\n",
       "      <td>None</td>\n",
       "    </tr>\n",
       "    <tr>\n",
       "      <th>3</th>\n",
       "      <td>4</td>\n",
       "      <td>ALCU_00033</td>\n",
       "      <td>Patient du Dr Xavier Cuony, physicien de ville...</td>\n",
       "      <td>Patient of Dr Xavier Cuony, city physicist, Fr...</td>\n",
       "      <td>painting artist in his studio.</td>\n",
       "      <td>1895</td>\n",
       "      <td>1910</td>\n",
       "      <td>Cuony, Xavier</td>\n",
       "      <td>Cuony, Xavier et Albert</td>\n",
       "      <td>Fribourg</td>\n",
       "      <td>Question de la modernité - santé</td>\n",
       "      <td>ALCU_00033_2k_324w.jpg</td>\n",
       "      <td>patient of dr xavier cuony, city physicist,</td>\n",
       "      <td>painting artist in his studio.</td>\n",
       "    </tr>\n",
       "    <tr>\n",
       "      <th>4</th>\n",
       "      <td>5</td>\n",
       "      <td>ALNU_00015</td>\n",
       "      <td>Homme âgé (Aloïs Catillaz), Felsenegg, Wünnewil</td>\n",
       "      <td>Elderly (Aloïs Catillaz), Felsenegg, Wünnewil</td>\n",
       "      <td>portrait of a man sitting on a bench.</td>\n",
       "      <td>1885</td>\n",
       "      <td>1900</td>\n",
       "      <td>Nussbaumer, Aloïs</td>\n",
       "      <td>Nussbaumer, Aloïs</td>\n",
       "      <td>Wünnewil</td>\n",
       "      <td>Question sociale</td>\n",
       "      <td>ALNU_00015_2k_324w.jpg</td>\n",
       "      <td>elderly (aloïs catillaz), felsenegg, wünnewil</td>\n",
       "      <td>a man sitting on a bench.</td>\n",
       "    </tr>\n",
       "  </tbody>\n",
       "</table>\n",
       "</div>"
      ],
      "text/plain": [
       "   id      bcu_id                                              title  \\\n",
       "0   1   ALBL00222                   Singine, Sense, Düdingen, moulin   \n",
       "1   2  ALCU_00005  Inauguration de la plaque commémorative au mur...   \n",
       "2   3  ALCU_00009  Marché à la Place Notre-Dame, autour de la fon...   \n",
       "3   4  ALCU_00033  Patient du Dr Xavier Cuony, physicien de ville...   \n",
       "4   5  ALNU_00015    Homme âgé (Aloïs Catillaz), Felsenegg, Wünnewil   \n",
       "\n",
       "                                            title_en  \\\n",
       "0                     Singine, Sense, Düdingen, mill   \n",
       "1  Inauguration of the commemorative plaque on th...   \n",
       "2  Marché à la Place Notre-Dame, autour de la fou...   \n",
       "3  Patient of Dr Xavier Cuony, city physicist, Fr...   \n",
       "4      Elderly (Aloïs Catillaz), Felsenegg, Wünnewil   \n",
       "\n",
       "                                 caption year_from year_to  photographer_name  \\\n",
       "0               aerial view of the town.      1952    1952               None   \n",
       "1     crowds gather to watch the parade.      1900    1900      Cuony, Xavier   \n",
       "2           a city in the past, history.      1900    1900      Cuony, Xavier   \n",
       "3         painting artist in his studio.      1895    1910      Cuony, Xavier   \n",
       "4  portrait of a man sitting on a bench.      1885    1900  Nussbaumer, Aloïs   \n",
       "\n",
       "                       fund_name  locality  \\\n",
       "0  Aéroport Lausanne Blécherette  Düdingen   \n",
       "1        Cuony, Xavier et Albert  Fribourg   \n",
       "2        Cuony, Xavier et Albert  Fribourg   \n",
       "3        Cuony, Xavier et Albert  Fribourg   \n",
       "4              Nussbaumer, Aloïs  Wünnewil   \n",
       "\n",
       "                                         theme                filename  \\\n",
       "0  Question de la modernité - urbanisme tardif   ALBL00222_2k_324w.jpg   \n",
       "1              Question religieuse - formation  ALCU_00005_2k_324w.jpg   \n",
       "2      Question de la modernité - alimentation  ALCU_00009_2k_324w.jpg   \n",
       "3             Question de la modernité - santé  ALCU_00033_2k_324w.jpg   \n",
       "4                             Question sociale  ALNU_00015_2k_324w.jpg   \n",
       "\n",
       "                               title_en_preprocessed  \\\n",
       "0                     singine, sense, düdingen, mill   \n",
       "1  inauguration of the commemorative plaque on th...   \n",
       "2  marché à la place notre-dame, autour de la fou...   \n",
       "3       patient of dr xavier cuony, city physicist,    \n",
       "4      elderly (aloïs catillaz), felsenegg, wünnewil   \n",
       "\n",
       "                 caption_preprocessed  \n",
       "0                                None  \n",
       "1  crowds gather to watch the parade.  \n",
       "2                                None  \n",
       "3      painting artist in his studio.  \n",
       "4           a man sitting on a bench.  "
      ]
     },
     "execution_count": 5,
     "metadata": {},
     "output_type": "execute_result"
    }
   ],
   "source": [
    "# Read sqlite query results into a pandas DataFrame\n",
    "con = sqlite3.connect(\"../data/BCU_database/bcu_caption.db\")\n",
    "Photo = pd.read_sql_query(\"SELECT * from Photo\", con)\n",
    "\n",
    "# Verify that result of SQL query is stored in the dataframe\n",
    "Photo.head()"
   ]
  },
  {
   "cell_type": "code",
   "execution_count": null,
   "metadata": {
    "collapsed": false
   },
   "outputs": [],
   "source": [
    "def translate(sentence):\n",
    "    input_ids = tokenizer(sentence, return_tensors=\"pt\").input_ids.cuda()\n",
    "    outputs = model.generate(input_ids=input_ids, num_beams=5, num_return_sequences=1)\n",
    "    return tokenizer.batch_decode(outputs, skip_special_tokens=True)[0]"
   ]
  },
  {
   "cell_type": "code",
   "execution_count": null,
   "metadata": {
    "collapsed": false
   },
   "outputs": [],
   "source": [
    "Photo['title_en'] = Photo['title'].apply(lambda x: translate(x) if pd.notna(x) else '')"
   ]
  },
  {
   "cell_type": "code",
   "execution_count": null,
   "metadata": {
    "collapsed": false
   },
   "outputs": [],
   "source": [
    "Photo.to_sql(\"Photo\",con,if_exists='replace',index=False, index_label=\"id\")"
   ]
  }
 ],
 "metadata": {
  "kernelspec": {
   "display_name": "Python 3.10.6 ('bcu')",
   "language": "python",
   "name": "python3"
  },
  "language_info": {
   "codemirror_mode": {
    "name": "ipython",
    "version": 3
   },
   "file_extension": ".py",
   "mimetype": "text/x-python",
   "name": "python",
   "nbconvert_exporter": "python",
   "pygments_lexer": "ipython3",
   "version": "3.10.6"
  },
  "vscode": {
   "interpreter": {
    "hash": "fd12328ba0a93ae9455e01a30dc1564af4ba300f8e0c01c6941d8bcfcdf1d801"
   }
  }
 },
 "nbformat": 4,
 "nbformat_minor": 0
}

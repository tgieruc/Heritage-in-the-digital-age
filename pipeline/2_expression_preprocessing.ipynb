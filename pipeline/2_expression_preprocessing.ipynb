{
 "cells": [
  {
   "cell_type": "code",
   "execution_count": 1,
   "metadata": {
    "collapsed": true
   },
   "outputs": [],
   "source": [
    "import glob\n",
    "import sqlite3\n",
    "from os import listdir\n",
    "from os.path import isfile, join\n",
    "\n",
    "import numpy as np\n",
    "import pandas as pd"
   ]
  },
  {
   "cell_type": "code",
   "execution_count": 2,
   "outputs": [],
   "source": [
    "BCU_database_folder = '../data/BCU_database/'"
   ],
   "metadata": {
    "collapsed": false
   }
  },
  {
   "cell_type": "markdown",
   "source": [
    "Extract the Photo table from the database"
   ],
   "metadata": {
    "collapsed": false
   }
  },
  {
   "cell_type": "code",
   "execution_count": 3,
   "outputs": [
    {
     "name": "stdout",
     "output_type": "stream",
     "text": [
      "original number of picture : 2216\n"
     ]
    },
    {
     "data": {
      "text/plain": "        id      bcu_id                                              title  \\\n0        1   ALBL00222                   Singine, Sense, Düdingen, moulin   \n1        2  ALCU_00005  Inauguration de la plaque commémorative au mur...   \n2        3  ALCU_00009  Marché à la Place Notre-Dame, autour de la fon...   \n3        4  ALCU_00033  Patient du Dr Xavier Cuony, physicien de ville...   \n4        5  ALNU_00015    Homme âgé (Aloïs Catillaz), Felsenegg, Wünnewil   \n...    ...         ...                                                ...   \n2211  2212  VIBU_00758  Ouvriers dans les ateliers de la nouvelle tuil...   \n2212  2213  VIBU_00800  Funérailles du conseiller d'Etat Georges Pytho...   \n2213  2214  VIBU_00823  Femmes détenues au pénitentier de Bellechasse ...   \n2214  2215  aueg_00004                                               None   \n2215  2216  here_04649                                               None   \n\n                                               title_en  \\\n0                        Singine, Sense, Düdingen, mill   \n1     Inauguration of the commemorative plaque on th...   \n2     Marché à la Place Notre-Dame, autour de la fou...   \n3     Patient of Dr Xavier Cuony, city physicist, Fr...   \n4         Elderly (Aloïs Catillaz), Felsenegg, Wünnewil   \n...                                                 ...   \n2211  Workers in the workshops of the new tile facto...   \n2212  Funeral of the State Councillor Georges Python...   \n2213  Women held at Bellechasse Penitentiary for the...   \n2214                                                      \n2215                                                      \n\n                                                caption year_from year_to  \\\n0                              aerial view of the town.      1952    1952   \n1                    crowds gather to watch the parade.      1900    1900   \n2                          a city in the past, history.      1900    1900   \n3                        painting artist in his studio.      1895    1910   \n4                 portrait of a man sitting on a bench.      1885    1900   \n...                                                 ...       ...     ...   \n2211  photograph of a group of men working on a mach...      1932    1932   \n2212  photograph of politician walking down the street.      1927    1927   \n2213  photograph of a group of people working in a f...      1930    1933   \n2214                                               None      None    None   \n2215                                               None      None    None   \n\n      photographer_name                      fund_name     locality  \\\n0                  None  Aéroport Lausanne Blécherette     Düdingen   \n1         Cuony, Xavier        Cuony, Xavier et Albert     Fribourg   \n2         Cuony, Xavier        Cuony, Xavier et Albert     Fribourg   \n3         Cuony, Xavier        Cuony, Xavier et Albert     Fribourg   \n4     Nussbaumer, Aloïs              Nussbaumer, Aloïs     Wünnewil   \n...                 ...                            ...          ...   \n2211      Buchs, Victor                  Buchs, Victor         None   \n2212      Buchs, Victor                  Buchs, Victor     Fribourg   \n2213      Buchs, Victor                  Buchs, Victor  Bellechasse   \n2214               None                           None         None   \n2215               None                           None         None   \n\n                                                  theme  \\\n0           Question de la modernité - urbanisme tardif   \n1                       Question religieuse - formation   \n2               Question de la modernité - alimentation   \n3                      Question de la modernité - santé   \n4                                      Question sociale   \n...                                                 ...   \n2211  Question de la modernité - tension ville-campagne   \n2212          Question politique - droite conservatrice   \n2213             Question sociale - justice-criminalité   \n2214     Question de genre - représentations du féminin   \n2215     Question de genre - représentations du féminin   \n\n                    filename  \\\n0      ALBL00222_2k_324w.jpg   \n1     ALCU_00005_2k_324w.jpg   \n2     ALCU_00009_2k_324w.jpg   \n3     ALCU_00033_2k_324w.jpg   \n4     ALNU_00015_2k_324w.jpg   \n...                      ...   \n2211  VIBU_00758_2k_324w.jpg   \n2212  VIBU_00800_2k_324w.jpg   \n2213  VIBU_00823_2k_324w.jpg   \n2214  AUEG_00004_2k_324w.jpg   \n2215                    None   \n\n                                  title_en_preprocessed  \\\n0                        singine, sense, düdingen, mill   \n1     inauguration of the commemorative plaque on th...   \n2     marché à la place notre-dame, autour de la fou...   \n3          patient of dr xavier cuony, city physicist,    \n4         elderly (aloïs catillaz), felsenegg, wünnewil   \n...                                                 ...   \n2211  workers in the workshops of the new tile facto...   \n2212  funeral of the state councillor georges python...   \n2213  women held at bellechasse penitentiary for the...   \n2214                                                      \n2215                                                      \n\n                       caption_preprocessed  \n0                                      None  \n1        crowds gather to watch the parade.  \n2                                      None  \n3            painting artist in his studio.  \n4                 a man sitting on a bench.  \n...                                     ...  \n2211   a group of men working on a machine.  \n2212    politician walking down the street.  \n2213  a group of people working in a field.  \n2214                                   None  \n2215                                   None  \n\n[2216 rows x 14 columns]",
      "text/html": "<div>\n<style scoped>\n    .dataframe tbody tr th:only-of-type {\n        vertical-align: middle;\n    }\n\n    .dataframe tbody tr th {\n        vertical-align: top;\n    }\n\n    .dataframe thead th {\n        text-align: right;\n    }\n</style>\n<table border=\"1\" class=\"dataframe\">\n  <thead>\n    <tr style=\"text-align: right;\">\n      <th></th>\n      <th>id</th>\n      <th>bcu_id</th>\n      <th>title</th>\n      <th>title_en</th>\n      <th>caption</th>\n      <th>year_from</th>\n      <th>year_to</th>\n      <th>photographer_name</th>\n      <th>fund_name</th>\n      <th>locality</th>\n      <th>theme</th>\n      <th>filename</th>\n      <th>title_en_preprocessed</th>\n      <th>caption_preprocessed</th>\n    </tr>\n  </thead>\n  <tbody>\n    <tr>\n      <th>0</th>\n      <td>1</td>\n      <td>ALBL00222</td>\n      <td>Singine, Sense, Düdingen, moulin</td>\n      <td>Singine, Sense, Düdingen, mill</td>\n      <td>aerial view of the town.</td>\n      <td>1952</td>\n      <td>1952</td>\n      <td>None</td>\n      <td>Aéroport Lausanne Blécherette</td>\n      <td>Düdingen</td>\n      <td>Question de la modernité - urbanisme tardif</td>\n      <td>ALBL00222_2k_324w.jpg</td>\n      <td>singine, sense, düdingen, mill</td>\n      <td>None</td>\n    </tr>\n    <tr>\n      <th>1</th>\n      <td>2</td>\n      <td>ALCU_00005</td>\n      <td>Inauguration de la plaque commémorative au mur...</td>\n      <td>Inauguration of the commemorative plaque on th...</td>\n      <td>crowds gather to watch the parade.</td>\n      <td>1900</td>\n      <td>1900</td>\n      <td>Cuony, Xavier</td>\n      <td>Cuony, Xavier et Albert</td>\n      <td>Fribourg</td>\n      <td>Question religieuse - formation</td>\n      <td>ALCU_00005_2k_324w.jpg</td>\n      <td>inauguration of the commemorative plaque on th...</td>\n      <td>crowds gather to watch the parade.</td>\n    </tr>\n    <tr>\n      <th>2</th>\n      <td>3</td>\n      <td>ALCU_00009</td>\n      <td>Marché à la Place Notre-Dame, autour de la fon...</td>\n      <td>Marché à la Place Notre-Dame, autour de la fou...</td>\n      <td>a city in the past, history.</td>\n      <td>1900</td>\n      <td>1900</td>\n      <td>Cuony, Xavier</td>\n      <td>Cuony, Xavier et Albert</td>\n      <td>Fribourg</td>\n      <td>Question de la modernité - alimentation</td>\n      <td>ALCU_00009_2k_324w.jpg</td>\n      <td>marché à la place notre-dame, autour de la fou...</td>\n      <td>None</td>\n    </tr>\n    <tr>\n      <th>3</th>\n      <td>4</td>\n      <td>ALCU_00033</td>\n      <td>Patient du Dr Xavier Cuony, physicien de ville...</td>\n      <td>Patient of Dr Xavier Cuony, city physicist, Fr...</td>\n      <td>painting artist in his studio.</td>\n      <td>1895</td>\n      <td>1910</td>\n      <td>Cuony, Xavier</td>\n      <td>Cuony, Xavier et Albert</td>\n      <td>Fribourg</td>\n      <td>Question de la modernité - santé</td>\n      <td>ALCU_00033_2k_324w.jpg</td>\n      <td>patient of dr xavier cuony, city physicist,</td>\n      <td>painting artist in his studio.</td>\n    </tr>\n    <tr>\n      <th>4</th>\n      <td>5</td>\n      <td>ALNU_00015</td>\n      <td>Homme âgé (Aloïs Catillaz), Felsenegg, Wünnewil</td>\n      <td>Elderly (Aloïs Catillaz), Felsenegg, Wünnewil</td>\n      <td>portrait of a man sitting on a bench.</td>\n      <td>1885</td>\n      <td>1900</td>\n      <td>Nussbaumer, Aloïs</td>\n      <td>Nussbaumer, Aloïs</td>\n      <td>Wünnewil</td>\n      <td>Question sociale</td>\n      <td>ALNU_00015_2k_324w.jpg</td>\n      <td>elderly (aloïs catillaz), felsenegg, wünnewil</td>\n      <td>a man sitting on a bench.</td>\n    </tr>\n    <tr>\n      <th>...</th>\n      <td>...</td>\n      <td>...</td>\n      <td>...</td>\n      <td>...</td>\n      <td>...</td>\n      <td>...</td>\n      <td>...</td>\n      <td>...</td>\n      <td>...</td>\n      <td>...</td>\n      <td>...</td>\n      <td>...</td>\n      <td>...</td>\n      <td>...</td>\n    </tr>\n    <tr>\n      <th>2211</th>\n      <td>2212</td>\n      <td>VIBU_00758</td>\n      <td>Ouvriers dans les ateliers de la nouvelle tuil...</td>\n      <td>Workers in the workshops of the new tile facto...</td>\n      <td>photograph of a group of men working on a mach...</td>\n      <td>1932</td>\n      <td>1932</td>\n      <td>Buchs, Victor</td>\n      <td>Buchs, Victor</td>\n      <td>None</td>\n      <td>Question de la modernité - tension ville-campagne</td>\n      <td>VIBU_00758_2k_324w.jpg</td>\n      <td>workers in the workshops of the new tile facto...</td>\n      <td>a group of men working on a machine.</td>\n    </tr>\n    <tr>\n      <th>2212</th>\n      <td>2213</td>\n      <td>VIBU_00800</td>\n      <td>Funérailles du conseiller d'Etat Georges Pytho...</td>\n      <td>Funeral of the State Councillor Georges Python...</td>\n      <td>photograph of politician walking down the street.</td>\n      <td>1927</td>\n      <td>1927</td>\n      <td>Buchs, Victor</td>\n      <td>Buchs, Victor</td>\n      <td>Fribourg</td>\n      <td>Question politique - droite conservatrice</td>\n      <td>VIBU_00800_2k_324w.jpg</td>\n      <td>funeral of the state councillor georges python...</td>\n      <td>politician walking down the street.</td>\n    </tr>\n    <tr>\n      <th>2213</th>\n      <td>2214</td>\n      <td>VIBU_00823</td>\n      <td>Femmes détenues au pénitentier de Bellechasse ...</td>\n      <td>Women held at Bellechasse Penitentiary for the...</td>\n      <td>photograph of a group of people working in a f...</td>\n      <td>1930</td>\n      <td>1933</td>\n      <td>Buchs, Victor</td>\n      <td>Buchs, Victor</td>\n      <td>Bellechasse</td>\n      <td>Question sociale - justice-criminalité</td>\n      <td>VIBU_00823_2k_324w.jpg</td>\n      <td>women held at bellechasse penitentiary for the...</td>\n      <td>a group of people working in a field.</td>\n    </tr>\n    <tr>\n      <th>2214</th>\n      <td>2215</td>\n      <td>aueg_00004</td>\n      <td>None</td>\n      <td></td>\n      <td>None</td>\n      <td>None</td>\n      <td>None</td>\n      <td>None</td>\n      <td>None</td>\n      <td>None</td>\n      <td>Question de genre - représentations du féminin</td>\n      <td>AUEG_00004_2k_324w.jpg</td>\n      <td></td>\n      <td>None</td>\n    </tr>\n    <tr>\n      <th>2215</th>\n      <td>2216</td>\n      <td>here_04649</td>\n      <td>None</td>\n      <td></td>\n      <td>None</td>\n      <td>None</td>\n      <td>None</td>\n      <td>None</td>\n      <td>None</td>\n      <td>None</td>\n      <td>Question de genre - représentations du féminin</td>\n      <td>None</td>\n      <td></td>\n      <td>None</td>\n    </tr>\n  </tbody>\n</table>\n<p>2216 rows × 14 columns</p>\n</div>"
     },
     "execution_count": 3,
     "metadata": {},
     "output_type": "execute_result"
    }
   ],
   "source": [
    "# Read sqlite query results into a pandas DataFrame\n",
    "con = sqlite3.connect(BCU_database_folder + 'bcu_caption.db')\n",
    "Photo = pd.read_sql_query(\"SELECT * from Photo\", con)\n",
    "\n",
    "# Verify that result of SQL query is stored in the dataframe\n",
    "print('original number of picture :',len(Photo))\n",
    "Photo"
   ],
   "metadata": {
    "collapsed": false
   }
  },
  {
   "cell_type": "markdown",
   "source": [
    "Get all the images"
   ],
   "metadata": {
    "collapsed": false
   }
  },
  {
   "cell_type": "code",
   "execution_count": 10,
   "outputs": [],
   "source": [
    "mypath = BCU_database_folder + '03_resized'\n",
    "onlyfiles = [f for f in listdir() if isfile(join(mypath, f))]"
   ],
   "metadata": {
    "collapsed": false
   }
  },
  {
   "cell_type": "code",
   "execution_count": 12,
   "outputs": [],
   "source": [
    "files = glob.glob(mypath + '/*')"
   ],
   "metadata": {
    "collapsed": false
   }
  },
  {
   "cell_type": "code",
   "execution_count": 13,
   "outputs": [],
   "source": [
    "files_324w = list(filter(lambda k: '324w' in k, files))"
   ],
   "metadata": {
    "collapsed": false
   }
  },
  {
   "cell_type": "code",
   "execution_count": 14,
   "outputs": [
    {
     "name": "stdout",
     "output_type": "stream",
     "text": [
      "Number of pictures with filenames: 1908\n"
     ]
    }
   ],
   "source": [
    "missing = []\n",
    "Photo['filename'] = Photo.loc[~Photo.bcu_id.str.contains('BCUF')].bcu_id.apply(lambda x:  (list(filter(lambda k: x.lower() in k.lower(), files_324w)))[0].removeprefix(mypath + '/') if len(list(filter(lambda k: x.lower() in k.lower(), files_324w))) > 0 else missing.append(x))\n",
    "print(f'Number of pictures with filenames: {Photo.filename.notnull().sum()}')"
   ],
   "metadata": {
    "collapsed": false
   }
  },
  {
   "cell_type": "markdown",
   "source": [
    "Processing titles and captions"
   ],
   "metadata": {
    "collapsed": false
   }
  },
  {
   "cell_type": "code",
   "execution_count": 15,
   "outputs": [
    {
     "name": "stdout",
     "output_type": "stream",
     "text": [
      "Number of images with processed captions and filenames: 1506\n",
      "Number of images with processed titles and filenames: 1881\n"
     ]
    }
   ],
   "source": [
    "Photo['title_en_preprocessed'] = Photo[\"title_en\"].apply(lambda x: np.nan if str(x).find('Souvenir of') != -1 else str(x).lower().replace('portrait of ', '').replace('canton of fribourg','').replace('(fribourg)','').replace('[fribourg]','').replace('of fribourg','').replace('fribourg',''))\n",
    "Photo['caption_preprocessed'] = Photo[\"caption\"].apply(lambda x: np.nan if (str(x).find('a city in') != -1 or str(x).find('view') != -1) else str(x).replace('portrait of ', '').replace('photograph of ', '').replace('black and white photo of ', ''))\n",
    "print(f'Number of images with processed captions and filenames: {(Photo.caption_preprocessed.notnull() & Photo.filename.notnull()).sum()}')\n",
    "print(f'Number of images with processed titles and filenames: {(Photo.title_en_preprocessed.notnull() & Photo.filename.notnull()).sum()}')"
   ],
   "metadata": {
    "collapsed": false
   }
  },
  {
   "cell_type": "code",
   "execution_count": 42,
   "outputs": [
    {
     "data": {
      "text/plain": "2216"
     },
     "execution_count": 42,
     "metadata": {},
     "output_type": "execute_result"
    }
   ],
   "source": [
    "Photo.to_sql(\"Photo\",con,if_exists='replace',index=False, index_label=\"id\")"
   ],
   "metadata": {
    "collapsed": false
   }
  }
 ],
 "metadata": {
  "kernelspec": {
   "display_name": "Python 3",
   "language": "python",
   "name": "python3"
  },
  "language_info": {
   "codemirror_mode": {
    "name": "ipython",
    "version": 2
   },
   "file_extension": ".py",
   "mimetype": "text/x-python",
   "name": "python",
   "nbconvert_exporter": "python",
   "pygments_lexer": "ipython2",
   "version": "2.7.6"
  }
 },
 "nbformat": 4,
 "nbformat_minor": 0
}

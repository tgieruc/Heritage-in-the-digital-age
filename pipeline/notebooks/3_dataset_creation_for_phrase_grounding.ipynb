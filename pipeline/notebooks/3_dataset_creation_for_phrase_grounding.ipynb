{
 "cells": [
  {
   "attachments": {},
   "cell_type": "markdown",
   "metadata": {},
   "source": [
    "# 3: Dataset creation for Phrase Grounding"
   ]
  },
  {
   "cell_type": "code",
   "execution_count": 1,
   "metadata": {
    "collapsed": true
   },
   "outputs": [],
   "source": [
    "import os\n",
    "import pickle\n",
    "import sqlite3\n",
    "import shutil\n",
    "\n",
    "import cv2\n",
    "import pandas as pd\n",
    "from matplotlib import pyplot as plt\n",
    "%matplotlib inline"
   ]
  },
  {
   "cell_type": "markdown",
   "metadata": {
    "collapsed": false
   },
   "source": [
    "Extract the Photo table from the database"
   ]
  },
  {
   "cell_type": "code",
   "execution_count": 2,
   "metadata": {
    "collapsed": false
   },
   "outputs": [],
   "source": [
    "BCU_database_folder = '../data/BCU_database/'\n",
    "dataset_for_phrase_grounding_folder = '../data/dataset_for_phrase_grounding/'"
   ]
  },
  {
   "cell_type": "code",
   "execution_count": 10,
   "metadata": {
    "collapsed": false
   },
   "outputs": [
    {
     "name": "stdout",
     "output_type": "stream",
     "text": [
      "Index(['id', 'bcu_id', 'title', 'title_en', 'caption', 'year_from', 'year_to',\n",
      "       'photographer_name', 'fund_name', 'locality', 'theme', 'filename',\n",
      "       'title_en_preprocessed', 'caption_preprocessed'],\n",
      "      dtype='object')\n",
      "original number of picture : 2216\n"
     ]
    }
   ],
   "source": [
    "# Read sqlite query results into a pandas DataFrame\n",
    "con = sqlite3.connect(BCU_database_folder + 'bcu_caption.db')\n",
    "Photo = pd.read_sql_query(\"SELECT * from Photo\", con)\n",
    "\n",
    "# Verify that result of SQL query is stored in the dataframe\n",
    "print(Photo.keys())\n",
    "print('original number of picture :',len(Photo))"
   ]
  },
  {
   "cell_type": "code",
   "execution_count": 11,
   "metadata": {
    "collapsed": false
   },
   "outputs": [
    {
     "data": {
      "text/plain": [
       "1500"
      ]
     },
     "execution_count": 11,
     "metadata": {},
     "output_type": "execute_result"
    }
   ],
   "source": [
    "Photo = Photo.loc[Photo.filename.notnull() & (Photo.caption_preprocessed.notna() & Photo.title_en_preprocessed.notna())]\n",
    "len(Photo)"
   ]
  },
  {
   "cell_type": "code",
   "execution_count": 12,
   "metadata": {
    "collapsed": false
   },
   "outputs": [],
   "source": [
    "dataset = []\n",
    "for id, row in Photo.iterrows():\n",
    "    elem = dict()\n",
    "    elem['image_id'] = row['id']\n",
    "    elem['caption'] = dict()\n",
    "    try :\n",
    "        elem['caption']['raw'] = row['caption']\n",
    "    except:\n",
    "        elem['caption']['raw'] = ''\n",
    "    try :\n",
    "        elem['caption']['preprocessed'] = row['caption_preprocessed'].lower()\n",
    "    except:\n",
    "        elem['caption']['preprocessed'] = ''\n",
    "    elem['title'] = dict()\n",
    "    try :\n",
    "        elem['title']['raw'] = row['title_en']\n",
    "    except:\n",
    "        elem['title']['raw'] = ''\n",
    "    try :\n",
    "        elem['title']['preprocessed'] = row['title_en_preprocessed'].lower()\n",
    "    except:\n",
    "        elem['title']['preprocessed'] = ''\n",
    "\n",
    "    elem['filename'] = row['filename']\n",
    "    dataset.append(elem)\n",
    "\n",
    "    # img = cv2.imread('./data/03_resized/' + row['filename'])\n",
    "    # plt.imshow(cv2.bitwise_not(img))\n",
    "    # plt.show()"
   ]
  },
  {
   "cell_type": "code",
   "execution_count": 18,
   "metadata": {
    "collapsed": false
   },
   "outputs": [
    {
     "data": {
      "text/plain": [
       "'/home/tgieruc/Heritage-in-the-digital-age/data/dataset_for_phrase_grounding.zip'"
      ]
     },
     "execution_count": 18,
     "metadata": {},
     "output_type": "execute_result"
    }
   ],
   "source": [
    "pickle.dump(dataset,open(dataset_for_phrase_grounding_folder + 'dataset.p','wb'))\n",
    "\n",
    "for elem in dataset:\n",
    "    shutil.copyfile(BCU_database_folder + '03_resized/' + elem['filename'], dataset_for_phrase_grounding_folder + 'img/' +  elem['filename'])\n",
    "shutil.make_archive('../data/dataset_for_phrase_grounding', 'zip', dataset_for_phrase_grounding_folder)"
   ]
  },
  {
   "cell_type": "code",
   "execution_count": null,
   "metadata": {
    "collapsed": false
   },
   "outputs": [],
   "source": []
  }
 ],
 "metadata": {
  "kernelspec": {
   "display_name": "Python 3.9.5 64-bit",
   "language": "python",
   "name": "python3"
  },
  "language_info": {
   "codemirror_mode": {
    "name": "ipython",
    "version": 2
   },
   "file_extension": ".py",
   "mimetype": "text/x-python",
   "name": "python",
   "nbconvert_exporter": "python",
   "pygments_lexer": "ipython2",
   "version": "3.9.5 (default, Nov 23 2021, 15:27:38) \n[GCC 9.3.0]"
  },
  "vscode": {
   "interpreter": {
    "hash": "f9f85f796d01129d0dd105a088854619f454435301f6ffec2fea96ecbd9be4ac"
   }
  }
 },
 "nbformat": 4,
 "nbformat_minor": 0
}

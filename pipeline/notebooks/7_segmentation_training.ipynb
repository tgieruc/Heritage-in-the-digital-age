{
  "cells": [
    {
      "attachments": {},
      "cell_type": "markdown",
      "metadata": {},
      "source": [
        "# 7: Training the neural network for segmentation\n",
        "> Using COCO dataset, we convert the images into B&W and train the neural network to predict the segmentation mask, using the image multiplited by the bounding box mask as input. The output is the segmentation mask."
      ]
    },
    {
      "cell_type": "code",
      "execution_count": null,
      "metadata": {
        "colab": {
          "base_uri": "https://localhost:8080/"
        },
        "id": "ooGzJqimo187",
        "outputId": "a9d09a1f-ba79-45bb-abe4-21672179282a"
      },
      "outputs": [
        {
          "name": "stdout",
          "output_type": "stream",
          "text": [
            "Migrating database to v0.18.0\n"
          ]
        },
        {
          "name": "stderr",
          "output_type": "stream",
          "text": [
            "INFO:fiftyone.migrations.runner:Migrating database to v0.18.0\n"
          ]
        }
      ],
      "source": [
        "import fiftyone as fo\n",
        "import fiftyone.zoo as foz\n",
        "import segmentation_models_pytorch as smp\n",
        "import torch\n",
        "import fiftyone.utils.coco as fouc\n",
        "from PIL import Image\n",
        "import random\n",
        "import torchvision.transforms as transforms\n",
        "import numpy as np\n",
        "import matplotlib.pyplot as plt"
      ]
    },
    {
      "cell_type": "code",
      "execution_count": null,
      "metadata": {
        "colab": {
          "base_uri": "https://localhost:8080/"
        },
        "id": "3oYfn5RS4dy3",
        "outputId": "0cfe6086-ba70-4e44-9db9-f73ea1623184"
      },
      "outputs": [],
      "source": [
        "# Load the dataset\n",
        "# !cp /content/drive/MyDrive/BCUFR/coco-2014.zip . \n",
        "# !unzip coco-2014.zip\n",
        "# !mkdir -p /root/fiftyone\n",
        "# !cp -r coco-2014 /root/fiftyone/coco-2014"
      ]
    },
    {
      "cell_type": "code",
      "execution_count": null,
      "metadata": {
        "colab": {
          "base_uri": "https://localhost:8080/"
        },
        "id": "KHJCLA4Eo8a3",
        "outputId": "87a83f14-ceb8-4256-c863-c62a0f55e1cc"
      },
      "outputs": [
        {
          "name": "stdout",
          "output_type": "stream",
          "text": [
            "Downloading split 'train' to '/root/fiftyone/coco-2014/train' if necessary\n"
          ]
        },
        {
          "name": "stderr",
          "output_type": "stream",
          "text": [
            "INFO:fiftyone.zoo.datasets:Downloading split 'train' to '/root/fiftyone/coco-2014/train' if necessary\n"
          ]
        },
        {
          "name": "stdout",
          "output_type": "stream",
          "text": [
            "Found annotations at '/root/fiftyone/coco-2014/raw/instances_train2014.json'\n"
          ]
        },
        {
          "name": "stderr",
          "output_type": "stream",
          "text": [
            "INFO:fiftyone.utils.coco:Found annotations at '/root/fiftyone/coco-2014/raw/instances_train2014.json'\n"
          ]
        },
        {
          "name": "stdout",
          "output_type": "stream",
          "text": [
            "Sufficient images already downloaded\n"
          ]
        },
        {
          "name": "stderr",
          "output_type": "stream",
          "text": [
            "INFO:fiftyone.utils.coco:Sufficient images already downloaded\n"
          ]
        },
        {
          "name": "stdout",
          "output_type": "stream",
          "text": [
            "Existing download of split 'train' is sufficient\n"
          ]
        },
        {
          "name": "stderr",
          "output_type": "stream",
          "text": [
            "INFO:fiftyone.zoo.datasets:Existing download of split 'train' is sufficient\n"
          ]
        },
        {
          "name": "stdout",
          "output_type": "stream",
          "text": [
            "Loading 'coco-2014' split 'train'\n"
          ]
        },
        {
          "name": "stderr",
          "output_type": "stream",
          "text": [
            "INFO:fiftyone.zoo.datasets:Loading 'coco-2014' split 'train'\n"
          ]
        },
        {
          "name": "stdout",
          "output_type": "stream",
          "text": [
            " 100% |███████████████| 5000/5000 [1.2m elapsed, 0s remaining, 64.3 samples/s]      \n"
          ]
        },
        {
          "name": "stderr",
          "output_type": "stream",
          "text": [
            "INFO:eta.core.utils: 100% |███████████████| 5000/5000 [1.2m elapsed, 0s remaining, 64.3 samples/s]      \n"
          ]
        },
        {
          "name": "stdout",
          "output_type": "stream",
          "text": [
            "Dataset 'coco-2014-train-5000' created\n"
          ]
        },
        {
          "name": "stderr",
          "output_type": "stream",
          "text": [
            "INFO:fiftyone.zoo.datasets:Dataset 'coco-2014-train-5000' created\n"
          ]
        }
      ],
      "source": [
        "dataset = foz.load_zoo_dataset(\n",
        "    \"coco-2014\",\n",
        "    split=\"train\",\n",
        "    label_types=[\"segmentations\"],\n",
        "    max_samples=5000,\n",
        ")"
      ]
    },
    {
      "cell_type": "code",
      "execution_count": null,
      "metadata": {
        "id": "K_sA9GiipWDQ"
      },
      "outputs": [],
      "source": [
        "dataset.compute_metadata()"
      ]
    },
    {
      "cell_type": "code",
      "execution_count": null,
      "metadata": {
        "colab": {
          "base_uri": "https://localhost:8080/",
          "height": 1000,
          "referenced_widgets": [
            "924861f4dd654ebaa32ff40b9d0eb98c",
            "b486753dcf944007bca6115c0838065e",
            "a64ff2289ba84c05b21034237aae672a",
            "eaadf6f36fc146369767ed0bddbe7fdf",
            "3b54d2959a9c4a0bb4b412f527f780af",
            "f722f07024cd4d68983cef0bf425343b",
            "b07e60c0a5ae470bb52dcd2d992ac886",
            "e2364e2cb2534050b31bed6e22d347a3",
            "e09f9e105c2c4f7b94246d88aab9e1ab",
            "fef0c01c65f24049b14efca6d9e1ebf7",
            "42fd30ffa7ce4f52a6fe03ac08fd10b0"
          ]
        },
        "id": "GXyxQgMIpOl0",
        "outputId": "e427f274-6746-4e84-dc93-eabeced00821"
      },
      "outputs": [],
      "source": [
        "# Create the model\n",
        "model = smp.Unet(\n",
        "    encoder_name=\"resnet34\",        # choose encoder, e.g. mobilenet_v2 or efficientnet-b7\n",
        "    encoder_weights=\"imagenet\",     # use `imagenet` pre-trained weights for encoder initialization\n",
        "    in_channels=3,                  # model input channels (1 for gray-scale images, 3 for RGB, etc.)\n",
        "    classes=1,                      # model output channels (number of classes in your dataset)\n",
        "    activation='sigmoid',\n",
        ")\n",
        "model = model.cuda()\n",
        "model.train()"
      ]
    },
    {
      "cell_type": "code",
      "execution_count": null,
      "metadata": {
        "colab": {
          "base_uri": "https://localhost:8080/"
        },
        "id": "0o3LWn04r62x",
        "outputId": "2dec64a7-5f9d-4c18-b34d-f85c64676941"
      },
      "outputs": [],
      "source": [
        "# Load the pretrained model\n",
        "# model = torch.load( '/content/drive/MyDrive/BCUFR/Deep Segmentation/model1.pth')\n",
        "# model = model.cuda()\n",
        "# model.train()"
      ]
    },
    {
      "cell_type": "code",
      "execution_count": null,
      "metadata": {
        "id": "pXdbonxCpRhz"
      },
      "outputs": [],
      "source": [
        "class FiftyOneTorchDataset(torch.utils.data.Dataset):\n",
        "    \"\"\"A class to construct a PyTorch dataset from a FiftyOne dataset.\n",
        "\n",
        "    Args:\n",
        "        fiftyone_dataset: a FiftyOne dataset or view that will be used for training or testing\n",
        "        transforms (None): a list of PyTorch transforms to apply to images and targets when loading\n",
        "        gt_field (\"ground_truth\"): the name of the field in fiftyone_dataset that contains the\n",
        "            desired labels to load\n",
        "        classes (None): a list of class strings that are used to define the mapping between\n",
        "            class names and indices. If None, it will use all classes present in the given fiftyone_dataset.\n",
        "    \"\"\"\n",
        "\n",
        "    def __init__(\n",
        "        self,\n",
        "        fiftyone_dataset,\n",
        "        transforms=None,\n",
        "        transforms_mask = None,\n",
        "        gt_field=\"ground_truth\",\n",
        "        classes=None,\n",
        "    ):\n",
        "        self.samples = fiftyone_dataset\n",
        "        self.transforms = transforms\n",
        "        self.transforms_mask = transforms_mask\n",
        "        self.gt_field = gt_field\n",
        "\n",
        "        self.img_paths = self.samples.values(\"filepath\")\n",
        "\n",
        "        self.classes = classes\n",
        "        if not self.classes:\n",
        "            # Get list of distinct labels that exist in the view\n",
        "            self.classes = self.samples.distinct(\n",
        "                \"%s.detections.label\" % gt_field\n",
        "            )\n",
        "\n",
        "        if self.classes[0] != \"background\":\n",
        "            self.classes = [\"background\"] + self.classes\n",
        "\n",
        "        self.labels_map_rev = {c: i for i, c in enumerate(self.classes)}\n",
        "\n",
        "    def __getitem__(self, idx):\n",
        "        img_path = self.img_paths[idx]\n",
        "        sample = self.samples[img_path]\n",
        "        metadata = sample.metadata\n",
        "        pilimg = Image.open(img_path).convert(\"RGB\")\n",
        "        img = np.array(pilimg)\n",
        "        if sample.ground_truth is not None:\n",
        "            detections = sample[self.gt_field].detections\n",
        "            det = random.choice(detections)\n",
        "\n",
        "            category_id = self.labels_map_rev[det.label]\n",
        "            coco_obj = fouc.COCOObject.from_label(\n",
        "                det, metadata, category_id=category_id,\n",
        "            )\n",
        "\n",
        "            x, y, w, h = coco_obj.bbox\n",
        "            mask = np.zeros((img.shape[0],img.shape[1]))\n",
        "            minx = int(x)\n",
        "            miny = int(y)\n",
        "            maxx = int(x+w)\n",
        "            maxy = int(y+h)\n",
        "            mask[miny:maxy, minx:maxx] = 1\n",
        "            # boxes = [[x, y, x + w, y + h]]\n",
        "            target = np.zeros((img.shape[0],img.shape[1]))\n",
        "            # target_mask = torch.as_tensor(det.mask)\n",
        "            target_mask_w, target_mask_h, = det.mask.shape\n",
        "            # print(target_mask_w, target_mask_h, torch.as_tensor(target_mask).shape)\n",
        "            target[miny:miny+target_mask_w, minx:minx+target_mask_h] = det.mask\n",
        "            # img = torch.concat([img, mask])\n",
        "\n",
        "        else:\n",
        "            mask = np.zeros((img.shape[0],img.shape[1]))\n",
        "            target = np.zeros((img.shape[0],img.shape[1]))\n",
        "        result = dict()\n",
        "        result['image'] = img\n",
        "        result['masks'] = [mask,target]\n",
        "        if self.transforms is not None:\n",
        "            result['image'] = self.transforms(result['image'])\n",
        "        if self.transforms_mask is not None:\n",
        "            result['masks'][0] = self.transforms_mask(result['masks'][0])\n",
        "            result['masks'][1] = self.transforms_mask(result['masks'][1])\n",
        "\n",
        "\n",
        "        return result\n",
        "\n",
        "    def __len__(self):\n",
        "        return len(self.img_paths)\n",
        "\n",
        "    def get_classes(self):\n",
        "        return self.classes"
      ]
    },
    {
      "cell_type": "code",
      "execution_count": null,
      "metadata": {
        "id": "WcVKBjJKpnsZ"
      },
      "outputs": [],
      "source": [
        "import torchvision.transforms as T\n",
        "\n",
        "transform = T.Compose([\n",
        "    T.ToTensor(),\n",
        "    T.Resize(800),\n",
        "    T.CenterCrop(800),\n",
        "    T.Normalize([0.485, 0.456, 0.406], [0.229, 0.224, 0.225]),\n",
        "    T.Grayscale(3)\n",
        "])\n",
        "transform_mask = T.Compose([\n",
        "    T.ToTensor(),\n",
        "    T.Resize(800),\n",
        "    T.CenterCrop(800),\n",
        "\n",
        "    # T.Normalize([0.485, 0.456, 0.406], [0.229, 0.224, 0.225])\n",
        "])\n",
        "dataset_train = FiftyOneTorchDataset(dataset, transforms=transform, transforms_mask = transform_mask) "
      ]
    },
    {
      "cell_type": "code",
      "execution_count": null,
      "metadata": {
        "colab": {
          "base_uri": "https://localhost:8080/",
          "height": 1000
        },
        "id": "U6Lv6fb8jga7",
        "outputId": "0e7ced1c-f740-46db-c24d-4a5105eaf5d0"
      },
      "outputs": [
        {
          "name": "stderr",
          "output_type": "stream",
          "text": [
            "WARNING:matplotlib.image:Clipping input data to the valid range for imshow with RGB data ([0..1] for floats or [0..255] for integers).\n"
          ]
        },
        {
          "data": {
            "image/png": "[encoded data removed]",
            "text/plain": [
              "<Figure size 432x288 with 1 Axes>"
            ]
          },
          "metadata": {
            "needs_background": "light"
          },
          "output_type": "display_data"
        },
        {
          "data": {
            "image/png": "[encoded data removed]",
            "text/plain": [
              "<Figure size 432x288 with 1 Axes>"
            ]
          },
          "metadata": {
            "needs_background": "light"
          },
          "output_type": "display_data"
        },
        {
          "name": "stderr",
          "output_type": "stream",
          "text": [
            "WARNING:matplotlib.image:Clipping input data to the valid range for imshow with RGB data ([0..1] for floats or [0..255] for integers).\n"
          ]
        },
        {
          "data": {
            "image/png": "[encoded data removed]",
            "text/plain": [
              "<Figure size 432x288 with 1 Axes>"
            ]
          },
          "metadata": {
            "needs_background": "light"
          },
          "output_type": "display_data"
        },
        {
          "data": {
            "image/png": "[encoded data removed]",
            "text/plain": [
              "<Figure size 432x288 with 1 Axes>"
            ]
          },
          "metadata": {
            "needs_background": "light"
          },
          "output_type": "display_data"
        }
      ],
      "source": [
        "import cv2\n",
        "result = dataset_train.__getitem__(2)\n",
        "\n",
        "plt.imshow(result['image'].permute(1,2,0))\n",
        "plt.title('Image')\n",
        "plt.show()\n",
        "plt.imshow(result['masks'][0].permute(1,2,0)[:,:,0])\n",
        "plt.title('Mask')\n",
        "plt.show()\n",
        "plt.imshow(result['masks'][0].permute(1,2,0)[:,:,:] * result['image'].permute(1,2,0))\n",
        "plt.title('Masked Image')\n",
        "plt.show()\n",
        "plt.imshow(result['masks'][1].permute(1,2,0)[:,:,0])\n",
        "plt.title('Target')\n",
        "plt.show()\n"
      ]
    },
    {
      "cell_type": "code",
      "execution_count": null,
      "metadata": {
        "id": "1y_diSWOjahh"
      },
      "outputs": [],
      "source": [
        "segmentation = model((result['image'] * result['masks'][0]).cuda()[None,:,:,:].float())"
      ]
    },
    {
      "cell_type": "code",
      "execution_count": null,
      "metadata": {
        "colab": {
          "base_uri": "https://localhost:8080/"
        },
        "id": "YtdA1-MKkNoP",
        "outputId": "c02df16c-e0a8-4318-9398-4a32ecc96418"
      },
      "outputs": [
        {
          "data": {
            "text/plain": [
              "torch.Size([1, 1, 800, 800])"
            ]
          },
          "execution_count": 13,
          "metadata": {},
          "output_type": "execute_result"
        }
      ],
      "source": [
        "segmentation.shape"
      ]
    },
    {
      "cell_type": "code",
      "execution_count": null,
      "metadata": {
        "colab": {
          "base_uri": "https://localhost:8080/",
          "height": 269
        },
        "id": "h13Xn4_ckI5w",
        "outputId": "68abd2b6-9295-4be3-b3f9-cf5cf466b097"
      },
      "outputs": [
        {
          "data": {
            "image/png": "[encoded data removed]",
            "text/plain": [
              "<Figure size 432x288 with 1 Axes>"
            ]
          },
          "metadata": {
            "needs_background": "light"
          },
          "output_type": "display_data"
        }
      ],
      "source": [
        "plt.imshow(segmentation[0].permute(1,2,0)[:,:,0].cpu().detach().numpy())\n",
        "cv2.imwrite('segmentation.png',segmentation[0].permute(1,2,0).cpu().detach().numpy() * 255)\n",
        "plt.show()"
      ]
    },
    {
      "attachments": {},
      "cell_type": "markdown",
      "metadata": {},
      "source": [
        "## Training"
      ]
    },
    {
      "cell_type": "code",
      "execution_count": null,
      "metadata": {
        "colab": {
          "background_save": true,
          "base_uri": "https://localhost:8080/"
        },
        "id": "5k6JQo4JuyZc",
        "outputId": "a74f29b3-f621-4ab3-a61c-463f4c6d5a6e"
      },
      "outputs": [],
      "source": [
        "num_epochs = 100\n",
        "import segmentation_models_pytorch.utils\n",
        "loss = smp.utils.losses.DiceLoss()\n",
        "metrics = [\n",
        "    smp.utils.metrics.IoU(threshold=0.5),\n",
        "]\n",
        "\n",
        "optimizer = torch.optim.Adam([\n",
        "    dict(params=model.parameters(), lr=0.001),\n",
        "])\n",
        "train_loader = torch.utils.data.DataLoader(\n",
        "    dataset_train,\n",
        "    batch_size=8, shuffle=True,\n",
        "    num_workers=1, pin_memory=True)\n",
        "\n",
        "total_iter = len(train_loader)\n",
        "global_loss = 0.14\n",
        "for epoch in range(0, num_epochs):\n",
        "    print(f'EPOCH: {epoch + 1}/{num_epochs}')\n",
        "\n",
        "    train_loss = []\n",
        "    for i, data in enumerate(train_loader):\n",
        "        model.train()\n",
        "        prediction = model((data['image'] * data['masks'][0]).cuda().float())\n",
        "\n",
        "        loss_ = loss(prediction, data['masks'][1].cuda())\n",
        "        train_loss.append(loss_.detach().cpu().item())\n",
        "\n",
        "        optimizer.zero_grad()\n",
        "        loss_.backward()\n",
        "        optimizer.step()\n",
        "        if i % 100 == 0:\n",
        "            print(f'Iter: {i}/{total_iter}, Loss: {np.mean(train_loss):.4f}')\n",
        "    if np.mean(train_loss) < global_loss:\n",
        "      torch.save(model, '/content/drive/MyDrive/BCUFR/Deep Segmentation/model1.pth')\n",
        "      global_loss = np.mean(train_loss)  \n",
        "      print('Model saved')"
      ]
    },
    {
      "attachments": {},
      "cell_type": "markdown",
      "metadata": {},
      "source": [
        "## Test"
      ]
    },
    {
      "cell_type": "code",
      "execution_count": null,
      "metadata": {
        "id": "8dLAyk_YwEbN"
      },
      "outputs": [],
      "source": [
        "res = model((result['image'] * result['masks'][0])[None,:,0].cuda().float())"
      ]
    },
    {
      "cell_type": "code",
      "execution_count": null,
      "metadata": {
        "colab": {
          "base_uri": "https://localhost:8080/",
          "height": 1000
        },
        "id": "6yZO08Rp0nZk",
        "outputId": "ddd36e6c-f61c-4eb8-9cab-690c6d06c229"
      },
      "outputs": [
        {
          "name": "stderr",
          "output_type": "stream",
          "text": [
            "WARNING:matplotlib.image:Clipping input data to the valid range for imshow with RGB data ([0..1] for floats or [0..255] for integers).\n"
          ]
        },
        {
          "data": {
            "image/png": "[encoded data removed]",
            "text/plain": [
              "<Figure size 432x288 with 1 Axes>"
            ]
          },
          "metadata": {},
          "output_type": "display_data"
        },
        {
          "data": {
            "image/png": "[encoded data removed]",
            "text/plain": [
              "<Figure size 432x288 with 1 Axes>"
            ]
          },
          "metadata": {},
          "output_type": "display_data"
        },
        {
          "data": {
            "image/png": "[encoded data removed]",
            "text/plain": [
              "<Figure size 432x288 with 1 Axes>"
            ]
          },
          "metadata": {},
          "output_type": "display_data"
        },
        {
          "data": {
            "image/png": "[encoded data removed]",
            "text/plain": [
              "<Figure size 432x288 with 1 Axes>"
            ]
          },
          "metadata": {},
          "output_type": "display_data"
        }
      ],
      "source": [
        "result = dataset_train.__getitem__(990)\n",
        "plt.imshow(result['image'].permute(1,2,0))\n",
        "plt.title('Image')\n",
        "plt.show()\n",
        "plt.imshow(result['masks'][0].permute(1,2,0)[:,:,0])\n",
        "plt.title('Mask')\n",
        "plt.show()\n",
        "res = model((result['image'] * result['masks'][0])[None,:,:].cuda().float())\n",
        "plt.imshow(res.permute(2,3,0,1)[:,:,0,0].detach().cpu().numpy())\n",
        "plt.title('Segmentation')\n",
        "plt.show()\n",
        "plt.imshow(result['masks'][1].permute(1,2,0)[:,:,0])\n",
        "plt.title('Target')\n",
        "plt.show()"
      ]
    },
    {
      "attachments": {},
      "cell_type": "markdown",
      "metadata": {},
      "source": [
        "## Eval"
      ]
    },
    {
      "cell_type": "code",
      "execution_count": null,
      "metadata": {},
      "outputs": [],
      "source": [
        "dataset = foz.load_zoo_dataset(\n",
        "    \"coco-2014\",\n",
        "    split=\"validation\",\n",
        "    label_types=[\"segmentations\"],\n",
        "    max_samples=1000,\n",
        ")"
      ]
    },
    {
      "cell_type": "code",
      "execution_count": null,
      "metadata": {},
      "outputs": [],
      "source": [
        "import torchvision.transforms as T\n",
        "\n",
        "transform = T.Compose([\n",
        "    T.ToTensor(),\n",
        "    T.Resize(800),\n",
        "    T.CenterCrop(800),\n",
        "    T.Normalize([0.485, 0.456, 0.406], [0.229, 0.224, 0.225]),\n",
        "    T.Grayscale(3)\n",
        "])\n",
        "transform_mask = T.Compose([\n",
        "    T.ToTensor(),\n",
        "    T.Resize(800),\n",
        "    T.CenterCrop(800),\n",
        "\n",
        "    # T.Normalize([0.485, 0.456, 0.406], [0.229, 0.224, 0.225])\n",
        "])\n",
        "dataset_test = FiftyOneTorchDataset(dataset, transforms=transform, transforms_mask = transform_mask) "
      ]
    },
    {
      "cell_type": "code",
      "execution_count": null,
      "metadata": {
        "colab": {
          "base_uri": "https://localhost:8080/"
        },
        "id": "kTt4Vc3iwGg2",
        "outputId": "ec7c8a8c-658b-4bdc-d79c-1ca73dc0ac61"
      },
      "outputs": [
        {
          "name": "stderr",
          "output_type": "stream",
          "text": [
            "Mean accuracy: 0.76: 100%|██████████| 125/125 [01:52<00:00,  1.11it/s]\n"
          ]
        }
      ],
      "source": [
        "from tqdm import tqdm\n",
        "\n",
        "\n",
        "num_epochs = 100\n",
        "import segmentation_models_pytorch.utils\n",
        "loss = smp.utils.losses.DiceLoss()\n",
        "metrics = [\n",
        "    smp.utils.metrics.IoU(threshold=0.5)\n",
        "]\n",
        "\n",
        "test_loader = torch.utils.data.DataLoader(\n",
        "    dataset_test,\n",
        "    batch_size=8, shuffle=False,\n",
        "    num_workers=1, pin_memory=True)\n",
        "\n",
        "model.eval()\n",
        "\n",
        "metric_results = []\n",
        "jaccard_results = []\n",
        "precision = np.zeros(len(test_loader))\n",
        "recall = np.zeros(len(test_loader))\n",
        "\n",
        "\n",
        "true_positives = 0\n",
        "false_positives = 0\n",
        "false_negatives = 0\n",
        "pbar = tqdm(train_loader)\n",
        "for i, data in enumerate(pbar):\n",
        "    with torch.no_grad():\n",
        "      prediction = (model((data['image'] * data['masks'][0]).cuda().float()) > 0.5).long()\n",
        "      # Flatten the outputs and labels tensors\n",
        "      outputs = prediction.view(-1)\n",
        "      labels = data['masks'][1].cuda().view(-1)\n",
        "\n",
        "      # Count the number of true positive, false positive, and false negative predictions\n",
        "      true_positives += ((outputs == 1) & (labels == 1)).sum().item()\n",
        "      false_positives += ((outputs == 1) & (labels == 0)).sum().item()\n",
        "      false_negatives += ((outputs == 0) & (labels == 1)).sum().item()\n",
        "\n",
        "\n",
        "      metric_results.append(metrics[0](prediction, data['masks'][1].cuda()))\n",
        "      pbar.set_description(f\"Mean accuracy: {torch.tensor(metric_results).mean():.2f}\")\n",
        "      \n",
        "    # Calculate the precision and recall values for the current threshold\n",
        "precision = true_positives / (true_positives + false_positives)\n",
        "recall = true_positives / (true_positives + false_negatives)"
      ]
    },
    {
      "cell_type": "code",
      "execution_count": null,
      "metadata": {},
      "outputs": [],
      "source": [
        "print(f\"Precision: {precision:.2f}\")\n",
        "print(f\"Recall: {recall:.2f}\")"
      ]
    }
  ],
  "metadata": {
    "accelerator": "GPU",
    "colab": {
      "provenance": []
    },
    "gpuClass": "standard",
    "kernelspec": {
      "display_name": "bcu",
      "language": "python",
      "name": "python3"
    },
    "language_info": {
      "name": "python",
      "version": "3.10.6 (main, Oct 24 2022, 16:07:47) [GCC 11.2.0]"
    },
    "vscode": {
      "interpreter": {
        "hash": "fd12328ba0a93ae9455e01a30dc1564af4ba300f8e0c01c6941d8bcfcdf1d801"
      }
    },
    "widgets": {
      "application/vnd.jupyter.widget-state+json": {
        "3b54d2959a9c4a0bb4b412f527f780af": {
          "model_module": "@jupyter-widgets/base",
          "model_module_version": "1.2.0",
          "model_name": "LayoutModel",
          "state": {
            "_model_module": "@jupyter-widgets/base",
            "_model_module_version": "1.2.0",
            "_model_name": "LayoutModel",
            "_view_count": null,
            "_view_module": "@jupyter-widgets/base",
            "_view_module_version": "1.2.0",
            "_view_name": "LayoutView",
            "align_content": null,
            "align_items": null,
            "align_self": null,
            "border": null,
            "bottom": null,
            "display": null,
            "flex": null,
            "flex_flow": null,
            "grid_area": null,
            "grid_auto_columns": null,
            "grid_auto_flow": null,
            "grid_auto_rows": null,
            "grid_column": null,
            "grid_gap": null,
            "grid_row": null,
            "grid_template_areas": null,
            "grid_template_columns": null,
            "grid_template_rows": null,
            "height": null,
            "justify_content": null,
            "justify_items": null,
            "left": null,
            "margin": null,
            "max_height": null,
            "max_width": null,
            "min_height": null,
            "min_width": null,
            "object_fit": null,
            "object_position": null,
            "order": null,
            "overflow": null,
            "overflow_x": null,
            "overflow_y": null,
            "padding": null,
            "right": null,
            "top": null,
            "visibility": null,
            "width": null
          }
        },
        "42fd30ffa7ce4f52a6fe03ac08fd10b0": {
          "model_module": "@jupyter-widgets/controls",
          "model_module_version": "1.5.0",
          "model_name": "DescriptionStyleModel",
          "state": {
            "_model_module": "@jupyter-widgets/controls",
            "_model_module_version": "1.5.0",
            "_model_name": "DescriptionStyleModel",
            "_view_count": null,
            "_view_module": "@jupyter-widgets/base",
            "_view_module_version": "1.2.0",
            "_view_name": "StyleView",
            "description_width": ""
          }
        },
        "924861f4dd654ebaa32ff40b9d0eb98c": {
          "model_module": "@jupyter-widgets/controls",
          "model_module_version": "1.5.0",
          "model_name": "HBoxModel",
          "state": {
            "_dom_classes": [],
            "_model_module": "@jupyter-widgets/controls",
            "_model_module_version": "1.5.0",
            "_model_name": "HBoxModel",
            "_view_count": null,
            "_view_module": "@jupyter-widgets/controls",
            "_view_module_version": "1.5.0",
            "_view_name": "HBoxView",
            "box_style": "",
            "children": [
              "IPY_MODEL_b486753dcf944007bca6115c0838065e",
              "IPY_MODEL_a64ff2289ba84c05b21034237aae672a",
              "IPY_MODEL_eaadf6f36fc146369767ed0bddbe7fdf"
            ],
            "layout": "IPY_MODEL_3b54d2959a9c4a0bb4b412f527f780af"
          }
        },
        "a64ff2289ba84c05b21034237aae672a": {
          "model_module": "@jupyter-widgets/controls",
          "model_module_version": "1.5.0",
          "model_name": "FloatProgressModel",
          "state": {
            "_dom_classes": [],
            "_model_module": "@jupyter-widgets/controls",
            "_model_module_version": "1.5.0",
            "_model_name": "FloatProgressModel",
            "_view_count": null,
            "_view_module": "@jupyter-widgets/controls",
            "_view_module_version": "1.5.0",
            "_view_name": "ProgressView",
            "bar_style": "success",
            "description": "",
            "description_tooltip": null,
            "layout": "IPY_MODEL_e2364e2cb2534050b31bed6e22d347a3",
            "max": 87306240,
            "min": 0,
            "orientation": "horizontal",
            "style": "IPY_MODEL_e09f9e105c2c4f7b94246d88aab9e1ab",
            "value": 87306240
          }
        },
        "b07e60c0a5ae470bb52dcd2d992ac886": {
          "model_module": "@jupyter-widgets/controls",
          "model_module_version": "1.5.0",
          "model_name": "DescriptionStyleModel",
          "state": {
            "_model_module": "@jupyter-widgets/controls",
            "_model_module_version": "1.5.0",
            "_model_name": "DescriptionStyleModel",
            "_view_count": null,
            "_view_module": "@jupyter-widgets/base",
            "_view_module_version": "1.2.0",
            "_view_name": "StyleView",
            "description_width": ""
          }
        },
        "b486753dcf944007bca6115c0838065e": {
          "model_module": "@jupyter-widgets/controls",
          "model_module_version": "1.5.0",
          "model_name": "HTMLModel",
          "state": {
            "_dom_classes": [],
            "_model_module": "@jupyter-widgets/controls",
            "_model_module_version": "1.5.0",
            "_model_name": "HTMLModel",
            "_view_count": null,
            "_view_module": "@jupyter-widgets/controls",
            "_view_module_version": "1.5.0",
            "_view_name": "HTMLView",
            "description": "",
            "description_tooltip": null,
            "layout": "IPY_MODEL_f722f07024cd4d68983cef0bf425343b",
            "placeholder": "​",
            "style": "IPY_MODEL_b07e60c0a5ae470bb52dcd2d992ac886",
            "value": "100%"
          }
        },
        "e09f9e105c2c4f7b94246d88aab9e1ab": {
          "model_module": "@jupyter-widgets/controls",
          "model_module_version": "1.5.0",
          "model_name": "ProgressStyleModel",
          "state": {
            "_model_module": "@jupyter-widgets/controls",
            "_model_module_version": "1.5.0",
            "_model_name": "ProgressStyleModel",
            "_view_count": null,
            "_view_module": "@jupyter-widgets/base",
            "_view_module_version": "1.2.0",
            "_view_name": "StyleView",
            "bar_color": null,
            "description_width": ""
          }
        },
        "e2364e2cb2534050b31bed6e22d347a3": {
          "model_module": "@jupyter-widgets/base",
          "model_module_version": "1.2.0",
          "model_name": "LayoutModel",
          "state": {
            "_model_module": "@jupyter-widgets/base",
            "_model_module_version": "1.2.0",
            "_model_name": "LayoutModel",
            "_view_count": null,
            "_view_module": "@jupyter-widgets/base",
            "_view_module_version": "1.2.0",
            "_view_name": "LayoutView",
            "align_content": null,
            "align_items": null,
            "align_self": null,
            "border": null,
            "bottom": null,
            "display": null,
            "flex": null,
            "flex_flow": null,
            "grid_area": null,
            "grid_auto_columns": null,
            "grid_auto_flow": null,
            "grid_auto_rows": null,
            "grid_column": null,
            "grid_gap": null,
            "grid_row": null,
            "grid_template_areas": null,
            "grid_template_columns": null,
            "grid_template_rows": null,
            "height": null,
            "justify_content": null,
            "justify_items": null,
            "left": null,
            "margin": null,
            "max_height": null,
            "max_width": null,
            "min_height": null,
            "min_width": null,
            "object_fit": null,
            "object_position": null,
            "order": null,
            "overflow": null,
            "overflow_x": null,
            "overflow_y": null,
            "padding": null,
            "right": null,
            "top": null,
            "visibility": null,
            "width": null
          }
        },
        "eaadf6f36fc146369767ed0bddbe7fdf": {
          "model_module": "@jupyter-widgets/controls",
          "model_module_version": "1.5.0",
          "model_name": "HTMLModel",
          "state": {
            "_dom_classes": [],
            "_model_module": "@jupyter-widgets/controls",
            "_model_module_version": "1.5.0",
            "_model_name": "HTMLModel",
            "_view_count": null,
            "_view_module": "@jupyter-widgets/controls",
            "_view_module_version": "1.5.0",
            "_view_name": "HTMLView",
            "description": "",
            "description_tooltip": null,
            "layout": "IPY_MODEL_fef0c01c65f24049b14efca6d9e1ebf7",
            "placeholder": "​",
            "style": "IPY_MODEL_42fd30ffa7ce4f52a6fe03ac08fd10b0",
            "value": " 83.3M/83.3M [00:00&lt;00:00, 295MB/s]"
          }
        },
        "f722f07024cd4d68983cef0bf425343b": {
          "model_module": "@jupyter-widgets/base",
          "model_module_version": "1.2.0",
          "model_name": "LayoutModel",
          "state": {
            "_model_module": "@jupyter-widgets/base",
            "_model_module_version": "1.2.0",
            "_model_name": "LayoutModel",
            "_view_count": null,
            "_view_module": "@jupyter-widgets/base",
            "_view_module_version": "1.2.0",
            "_view_name": "LayoutView",
            "align_content": null,
            "align_items": null,
            "align_self": null,
            "border": null,
            "bottom": null,
            "display": null,
            "flex": null,
            "flex_flow": null,
            "grid_area": null,
            "grid_auto_columns": null,
            "grid_auto_flow": null,
            "grid_auto_rows": null,
            "grid_column": null,
            "grid_gap": null,
            "grid_row": null,
            "grid_template_areas": null,
            "grid_template_columns": null,
            "grid_template_rows": null,
            "height": null,
            "justify_content": null,
            "justify_items": null,
            "left": null,
            "margin": null,
            "max_height": null,
            "max_width": null,
            "min_height": null,
            "min_width": null,
            "object_fit": null,
            "object_position": null,
            "order": null,
            "overflow": null,
            "overflow_x": null,
            "overflow_y": null,
            "padding": null,
            "right": null,
            "top": null,
            "visibility": null,
            "width": null
          }
        },
        "fef0c01c65f24049b14efca6d9e1ebf7": {
          "model_module": "@jupyter-widgets/base",
          "model_module_version": "1.2.0",
          "model_name": "LayoutModel",
          "state": {
            "_model_module": "@jupyter-widgets/base",
            "_model_module_version": "1.2.0",
            "_model_name": "LayoutModel",
            "_view_count": null,
            "_view_module": "@jupyter-widgets/base",
            "_view_module_version": "1.2.0",
            "_view_name": "LayoutView",
            "align_content": null,
            "align_items": null,
            "align_self": null,
            "border": null,
            "bottom": null,
            "display": null,
            "flex": null,
            "flex_flow": null,
            "grid_area": null,
            "grid_auto_columns": null,
            "grid_auto_flow": null,
            "grid_auto_rows": null,
            "grid_column": null,
            "grid_gap": null,
            "grid_row": null,
            "grid_template_areas": null,
            "grid_template_columns": null,
            "grid_template_rows": null,
            "height": null,
            "justify_content": null,
            "justify_items": null,
            "left": null,
            "margin": null,
            "max_height": null,
            "max_width": null,
            "min_height": null,
            "min_width": null,
            "object_fit": null,
            "object_position": null,
            "order": null,
            "overflow": null,
            "overflow_x": null,
            "overflow_y": null,
            "padding": null,
            "right": null,
            "top": null,
            "visibility": null,
            "width": null
          }
        }
      }
    }
  },
  "nbformat": 4,
  "nbformat_minor": 0
}

{
 "cells": [
  {
   "attachments": {},
   "cell_type": "markdown",
   "metadata": {
    "collapsed": false
   },
   "source": [
    "# 5: Caption postprocessing\n",
    "The phrase grounding models tend to use the word \"group\" as a label, rather than the noun following it. This error is fixed by checking if the word \"group\" is followed by a noun, and if it is, the label is changed to the noun. \n"
   ]
  },
  {
   "cell_type": "code",
   "execution_count": 1,
   "metadata": {
    "collapsed": true
   },
   "outputs": [],
   "source": [
    "import pickle\n",
    "import sys\n",
    "from pathlib import Path\n",
    "\n",
    "import pandas as pd\n",
    "\n",
    "import src.GLIP.maskrcnn_benchmark as maskrcnn_benchmark\n",
    "\n",
    "sys.modules['maskrcnn_benchmark'] = maskrcnn_benchmark\n"
   ]
  },
  {
   "cell_type": "code",
   "execution_count": null,
   "metadata": {
    "collapsed": false
   },
   "outputs": [],
   "source": [
    "phrase_grounding_selected_folder = '../data/phrase_grounding_selected/'\n",
    "dataset_for_phrase_grounding = '../data/dataset_for_phrase_grounding/'\n"
   ]
  },
  {
   "cell_type": "code",
   "execution_count": null,
   "metadata": {
    "collapsed": false
   },
   "outputs": [],
   "source": [
    "# iterate over files in\n",
    "# that directory\n",
    "files = Path(phrase_grounding_selected_folder).glob('*.p')\n",
    "\n",
    "pickle_filename = []\n",
    "for file in files:\n",
    "    pickle_filename.append(str(file))\n",
    "pickle_filename"
   ]
  },
  {
   "cell_type": "code",
   "execution_count": null,
   "metadata": {
    "collapsed": false
   },
   "outputs": [],
   "source": [
    "dataset = pd.DataFrame()\n",
    "for pickle_file in pickle_filename:\n",
    "    dataset = dataset.append(pickle.load(open(pickle_file, 'rb')), ignore_index=True)"
   ]
  },
  {
   "cell_type": "code",
   "execution_count": null,
   "metadata": {
    "collapsed": false
   },
   "outputs": [],
   "source": [
    "dataset"
   ]
  },
  {
   "cell_type": "code",
   "execution_count": null,
   "metadata": {
    "collapsed": false
   },
   "outputs": [],
   "source": [
    "dataset['conf'] = dataset.results.apply(lambda x: x[0])\n",
    "dataset['bbox'] = dataset.results.apply(lambda x: x[1])\n",
    "dataset['labels'] = dataset.results.apply(lambda x: x[2])\n",
    "dataset = dataset.drop(columns='results')"
   ]
  },
  {
   "cell_type": "code",
   "execution_count": null,
   "metadata": {
    "collapsed": false
   },
   "outputs": [],
   "source": [
    "expr_dataset = pickle.load(open(dataset_for_phrase_grounding + 'dataset.p', 'rb'))\n",
    "expr_dataset = pd.DataFrame(expr_dataset)\n",
    "expr_dataset['caption_raw'] = expr_dataset.caption.apply(lambda x: x['raw'])\n",
    "expr_dataset['caption_preprocessed'] = expr_dataset.caption.apply(lambda x: x['preprocessed'])\n",
    "expr_dataset['title_raw'] = expr_dataset.title.apply(lambda x: x['raw'])\n",
    "expr_dataset['title_preprocessed'] = expr_dataset.title.apply(lambda x: x['preprocessed'])\n",
    "expr_dataset = expr_dataset.drop(columns=['caption', 'title'])\n",
    "expr_dataset.head()"
   ]
  },
  {
   "cell_type": "code",
   "execution_count": null,
   "metadata": {
    "collapsed": false
   },
   "outputs": [],
   "source": [
    "dataset = pd.merge(dataset, expr_dataset, left_on='filename', right_on='filename', how='left')"
   ]
  },
  {
   "cell_type": "code",
   "execution_count": null,
   "metadata": {
    "collapsed": false
   },
   "outputs": [],
   "source": [
    "def remove_group(elem):\n",
    "    if ('a group' in elem['labels']) or ('group' in elem['labels']):\n",
    "        if elem['expr'] == 'caption':\n",
    "            expression = elem['caption_preprocessed']\n",
    "        else:\n",
    "            expression = elem['title_preprocessed']\n",
    "        expression = expression.split(' ')\n",
    "        try:\n",
    "            word = expression[expression.index('of') + 1]\n",
    "            if word == 'young':\n",
    "                word = word + ' ' + expression[expression.index('of') + 2]\n",
    "            return [word if label == 'a group' else label for label in elem['labels']]\n",
    "        except:\n",
    "            return elem['labels']\n",
    "\n",
    "    else:\n",
    "        return elem['labels']"
   ]
  },
  {
   "cell_type": "code",
   "execution_count": null,
   "metadata": {
    "collapsed": false
   },
   "outputs": [],
   "source": [
    "dataset['labels'] = dataset.apply(lambda x: remove_group(x), axis=1)"
   ]
  },
  {
   "cell_type": "code",
   "execution_count": null,
   "metadata": {
    "collapsed": false
   },
   "outputs": [],
   "source": [
    "pickle.dump(dataset, open('../data/dataset_for_segmentation.p','wb'))"
   ]
  }
 ],
 "metadata": {
  "kernelspec": {
   "display_name": "bcu",
   "language": "python",
   "name": "python3"
  },
  "language_info": {
   "codemirror_mode": {
    "name": "ipython",
    "version": 3
   },
   "file_extension": ".py",
   "mimetype": "text/x-python",
   "name": "python",
   "nbconvert_exporter": "python",
   "pygments_lexer": "ipython3",
   "version": "3.10.6"
  },
  "vscode": {
   "interpreter": {
    "hash": "fd12328ba0a93ae9455e01a30dc1564af4ba300f8e0c01c6941d8bcfcdf1d801"
   }
  }
 },
 "nbformat": 4,
 "nbformat_minor": 0
}
